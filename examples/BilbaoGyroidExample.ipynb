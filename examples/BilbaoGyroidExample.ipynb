{
 "cells": [
  {
   "cell_type": "code",
   "execution_count": null,
   "metadata": {},
   "outputs": [],
   "source": []
  },
  {
   "cell_type": "markdown",
   "metadata": {},
   "source": [
    "We're going to be building a structure inspired by the symmetry of the gyroid shape. Specifically, this will be part of space group 230 and shares symmetry with the achiral 2-srs network reported [here](https://onlinelibrary.wiley.com/doi/10.1002/adom.201800485)\n"
   ]
  },
  {
   "cell_type": "code",
   "execution_count": 1,
   "metadata": {},
   "outputs": [],
   "source": [
    "import crystalbuilder.bilbao as cbb\n",
    "\n",
    "single_gyr = cbb.SpaceGroup(230, points=[(0,0,0), (.5,.5,.5)])"
   ]
  },
  {
   "cell_type": "markdown",
   "metadata": {},
   "source": [
    "The above cell imports the bilbao module and pulls the generators/symmetry operations from the server. With the initial points specified, the single_gyr object now contains all of the points in the unit cell.\n",
    "\n",
    "We need to build this unit cell using the geometry functions in crystalbuilder's geometry module. This could probably be done with MEEP as well, but it would generally be tedious to transform all of the points into lattice coordinates for MPB. **Note that it would not be as tedious here because the cubic cell lattice vectors are parallel to the cartesian axes.**"
   ]
  },
  {
   "cell_type": "code",
   "execution_count": 2,
   "metadata": {},
   "outputs": [],
   "source": [
    "import crystalbuilder.geometry as geo\n",
    "\n",
    "a = 1\n",
    "\n",
    "rad = .1*a\n",
    "\n",
    "unit_cell = geo.SuperCell([])\n",
    "\n",
    "for n in single_gyr.generated_points:\n",
    "    sphere = geo.Sphere(center=n, radius=rad)\n",
    "    unit_cell.add_structure(sphere)\n",
    "\n",
    "# unit_cell.identify_structures()"
   ]
  },
  {
   "cell_type": "code",
   "execution_count": 3,
   "metadata": {},
   "outputs": [],
   "source": [
    "import crystalbuilder.lattice as lat\n",
    "\n",
    "lattice = lat.Lattice()\n",
    "\n",
    "crystal = lattice.tile_geogeometry(unit_cell, 3, 3, 3)\n"
   ]
  },
  {
   "cell_type": "code",
   "execution_count": null,
   "metadata": {},
   "outputs": [
    {
     "ename": "",
     "evalue": "",
     "output_type": "error",
     "traceback": [
      "\u001b[1;31mThe Kernel crashed while executing code in the current cell or a previous cell. \n",
      "\u001b[1;31mPlease review the code in the cell(s) to identify a possible cause of the failure. \n",
      "\u001b[1;31mClick <a href='https://aka.ms/vscodeJupyterKernelCrash'>here</a> for more info. \n",
      "\u001b[1;31mView Jupyter <a href='command:jupyter.viewOutput'>log</a> for further details."
     ]
    }
   ],
   "source": [
    "import crystalbuilder.convert as cv\n",
    "import meep as mp\n",
    "from meep import mpb\n",
    "\n",
    "mat1 = mp.Medium(epsilon=8)\n",
    "#mpb_geo = cv.geo_to_mpb(unit_cell, material=mat1, lattice=cv.to_mpb_lattice(lattice))\n",
    "mpb_geo = mp.Sphere(.1, center=mp.Vector3(0,0,0), material=mat1)\n",
    "geometry_lattice = mp.Lattice()\n",
    "\n",
    "# geometry_lattice = cv.to_mpb_lattice(lattice)\n",
    "\n",
    "# k_labels = list(single_gyr.kvec_dict.keys())\n",
    "# k_points = list(single_gyr.kvec_dict.values())\n",
    "# k_points = mp.interpolate(1, k_points)\n",
    "\n",
    "k_points = [\n",
    "    mp.Vector3(0, 0.5, 0.5),        # X\n",
    "    mp.Vector3(0, 0.625, 0.375),    # U\n",
    "    mp.Vector3(0, 0.5, 0),          # L\n",
    "    mp.Vector3(0, 0, 0),            # Gamma\n",
    "    mp.Vector3(0, 0.5, 0.5),        # X\n",
    "    mp.Vector3(0.25, 0.75, 0.5),    # W\n",
    "    mp.Vector3(0.375, 0.75, 0.375)  # K\n",
    "]\n",
    "\n",
    "k_points = mp.interpolate(2, k_points)\n",
    "\n",
    "resolution = 8\n",
    "num_bands = 10\n",
    "\n",
    "ms = mpb.ModeSolver(\n",
    "    geometry=[mpb_geo],\n",
    "    geometry_lattice=geometry_lattice,\n",
    "    k_points=k_points,\n",
    "    resolution=resolution,\n",
    "    num_bands=num_bands,\n",
    ")\n",
    "\n",
    "ms.run()\n",
    "\n"
   ]
  },
  {
   "cell_type": "code",
   "execution_count": null,
   "metadata": {},
   "outputs": [],
   "source": [
    "import matplotlib.pyplot as plt\n",
    "### Plotting Dielectric Map ###\n",
    "plt.figure()\n",
    "md = mpb.MPBData(rectify=True, periods=1, resolution=64)\n",
    "eps = ms.get_epsilon()\n",
    "converted_eps = md.convert(eps)\n",
    "print (converted_eps.shape)\n",
    "print (geometry_lattice.size)\n",
    "plt.imshow(converted_eps.T, interpolation='spline36', cmap='binary_r')\n",
    "plt.axis('off')\n",
    "\n",
    "plt.figure()\n",
    "md = mpb.MPBData(rectify=True, periods=2, resolution=64)\n",
    "eps = ms.get_epsilon()\n",
    "converted_eps = md.convert(eps)\n",
    "print (converted_eps.shape)\n",
    "print (geometry_lattice.size)\n",
    "plt.imshow(converted_eps.T, interpolation='spline36', cmap='binary_r')\n",
    "plt.axis('off')\n",
    "\n",
    "if save== True:\n",
    "    plt.savefig('structure-hachaspinhall-d'+str(d)+'-r-'+str(r)+'-'+mode+'.pdf')\n",
    "    plt.close()\n",
    "else:\n",
    "    plt.show()\n",
    "\n",
    "### Plotting Band Structure ###\n",
    "if plot_structure_only == False:\n",
    "    crysfreqs = ms.all_freqs\n",
    "    x = range(len(crysfreqs))\n",
    "    figgy = plt.figure()\n",
    "    plt.plot(x,crysfreqs, color='blue');\n",
    "    points_in_between = (len(crysfreqs)-1) / (k_corners-1)\n",
    "    tick_locs = [i*points_in_between for i in range(k_corners)]\n",
    "    tick_labs = k_points_str\n",
    "    plt.xticks(tick_locs,tick_labs)\n",
    "    plt.ylabel('frequency (c/a)', size=16)\n",
    "    plt.title(\"%s Band Structure for n=%.2f \\n  d= %.4f, r1 = %.4f, r2= %.4f \" %(mode, nmat, d, r1, r2))\n",
    "    plt.grid(True)\n",
    "    figax = plt.gca()\n",
    "    figax.set_ylim([bandmin, bandmax])\n",
    "    if air_bands == True:\n",
    "        airfreqs = ms_air.all_freqs\n",
    "        figax.plot(x,airfreqs, color='black', ls='--')\n",
    "\n",
    "    if dielec_bands == True:\n",
    "        dielecfreqs = ms_dielectric.all_freqs\n",
    "        figax.plot(x,dielecfreqs, color='black', ls=':')\n",
    "\n",
    "    if save== True:\n",
    "        plt.savefig('bands-hachaspinhall-d'+str(d)+'-r1-'+str(r1)+'-'+str(r2)+'-'+mode+'.pdf')\n",
    "        plt.close()\n",
    "    else:\n",
    "        plt.show()\n",
    "\n",
    "    plt.figure()\n",
    "    crysfreqs_thz = 3e8*(crysfreqs/(a*1e-6))/1e12\n",
    "    plt.plot(x, crysfreqs_thz, color='blue')\n",
    "    ax1 = plt.gca()\n",
    "    plt.xticks(tick_locs,tick_labs)\n",
    "    plt.ylabel('frequency (THz)', size=16)\n",
    "    plt.title(\"%s Band Structure for n=%.2f \\n  d= %.4f, r1 = %.4f, r2= %.4f \" %(mode, nmat, d, r1, r2))\n",
    "    plt.grid(True)\n",
    "    if air_bands == True:\n",
    "        airfreqs = ms_air.all_freqs\n",
    "        ax1.plot(x,airfreqs, color='black', ls='--')\n",
    "\n",
    "    if dielec_bands == True:\n",
    "        dielecfreqs = ms_dielectric.all_freqs\n",
    "        ax1.plot(x,dielecfreqs, color='black', ls=':')\n",
    "    \n",
    "    plt.show()"
   ]
  }
 ],
 "metadata": {
  "kernelspec": {
   "display_name": "simulation",
   "language": "python",
   "name": "python3"
  },
  "language_info": {
   "codemirror_mode": {
    "name": "ipython",
    "version": 3
   },
   "file_extension": ".py",
   "mimetype": "text/x-python",
   "name": "python",
   "nbconvert_exporter": "python",
   "pygments_lexer": "ipython3",
   "version": "3.11.5"
  }
 },
 "nbformat": 4,
 "nbformat_minor": 2
}
