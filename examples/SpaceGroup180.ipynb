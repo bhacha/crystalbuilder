{
 "cells": [
  {
   "cell_type": "code",
   "execution_count": 1,
   "metadata": {},
   "outputs": [],
   "source": [
    "from crystalbuilder import *\n",
    "import crystalbuilder.geometry as geo\n",
    "import matplotlib.pyplot as plt\n",
    "import numpy as np\n",
    "import vedo"
   ]
  },
  {
   "cell_type": "markdown",
   "metadata": {},
   "source": [
    "This notebook will walk through an example of creating a 3D photonic crystal based on the rod-connected diamond motif. The structure will be made using CrystalBuilder's geo package and then simulated using MPB. \n",
    "\n",
    "First, let's define our basis. This time, we will use a cubic basis and not the primitive rhombohedral one. "
   ]
  },
  {
   "cell_type": "code",
   "execution_count": 2,
   "metadata": {},
   "outputs": [],
   "source": [
    "a1 = [1,0, 0]\n",
    "a2 = [.5,np.sqrt(3)/2 ,0]\n",
    "a3 = [0, 0, 1]\n",
    "\n",
    "a_mag = 1\n",
    "\n",
    "geo_lattice = lattice.Lattice(a1, a2, a3, magnitude = [a_mag, a_mag, a_mag])"
   ]
  },
  {
   "cell_type": "markdown",
   "metadata": {},
   "source": [
    "We've now defined our lattice. It's important to note that this is a CrystalBuilder lattice and not an MPB one. They can be converted, as we will show later, but they are not the exact same. \n",
    "\n",
    "Let's get the positions of the \"atoms\" in the diamond lattice that our rods will connect.\n",
    "\n",
    "The square diamond lattice looks like 4 tetrahedra connected to one another. There are 18 sites in the cubic unit cell. \n",
    "\n",
    "To avoid manually specifying those 18 sites, let's take advantage of the Bilbao Crystallographic Server. Fortunately, CrystalBuilder includes a package that can grab and parse the generators from [the Bilbao site](https://www.cryst.ehu.es). \n",
    "<br>\n",
    "<summary>The Bilbao database is summarized in the following papers, which should be cited if this function is used. </summary>\n",
    "\n",
    "<details>\n",
    "\n",
    ">\n",
    ">M. I. Aroyo, J. M. Perez-Mato, D. Orobengoa, E. Tasci, G. de la Flor, A. Kirov\n",
    "\"Crystallography online: Bilbao Crystallographic Server\"\n",
    "Bulg. Chem. Commun. 43(2) 183-197 (2011).\n",
    ">\n",
    ">M. I. Aroyo, J. M. Perez-Mato, C. Capillas, E. Kroumova, S. Ivantchev, G. Madariaga, A. Kirov & H. Wondratschek\n",
    "\"Bilbao Crystallographic Server I: Databases and crystallographic computing programs\"\n",
    " Z. Krist. 221, 1, 15-27 (2006)\n",
    ">\n",
    ">M. I. Aroyo, A. Kirov, C. Capillas, J. M. Perez-Mato & H. Wondratschek\n",
    "\"Bilbao Crystallographic Server II: Representations of crystallographic point groups and space groups\"\n",
    "Acta Cryst. A62, 115-128 (2006)\n",
    ">\n",
    "</details>\n",
    "\n",
    "The bilbao.SpaceGroup() class contains functions for applying symmetry operations to specified points. An instance of the space group must be initialized, with the only argument being the IUCr space group number (1-230).\n",
    "\n",
    "After this, the calculate_points function will accept any number of input coordinates and perform all of the symmetry operations. The output will be either a numpy array (default) or a list. If using a numpy array, the output will contain only the unique results of the symmetry operations. A list will contain duplicates, as np.unique() requires a conversion to an ndarray. For this reason, it is strongly recommended to use the default numpy output."
   ]
  },
  {
   "cell_type": "code",
   "execution_count": 11,
   "metadata": {},
   "outputs": [],
   "source": [
    "diamond = bilbao.SpaceGroup(182)\n",
    "\n",
    "points = diamond.calculate_points(point_list=[(1/2, 0, 1/2)]) #This is the 8a wyckoff position"
   ]
  },
  {
   "cell_type": "markdown",
   "metadata": {},
   "source": [
    "For a diamond lattice, the rods connect nearest-neighbor points. Using geo.NearestNeighbors, we can create cylinders between the points that are within a neighborhood_range of each other. The output is a list of geometries, which could be converted into a supercell if desired. \n",
    "\n",
    "<summary> Under the hood: </summary>\n",
    "<details>\n",
    "The details of this step involve creating a KDTree from the points, and calculating their distances in Euclidean space (Minkowski order 2). The neighborhood_range is in absolute coordinates and is not scaled to the lattice constant.\n",
    "</details> "
   ]
  },
  {
   "cell_type": "code",
   "execution_count": 12,
   "metadata": {},
   "outputs": [
    {
     "name": "stdout",
     "output_type": "stream",
     "text": [
      "12\n"
     ]
    }
   ],
   "source": [
    "radius = .25\n",
    "# connection_sites = geo.NearestNeighbors(points, radius=radius, neighborhood_range=.45)\n",
    "\n",
    "sphere_caps = [geo.Sphere(center=point, radius=radius) for point in points]\n",
    "print(len(sphere_caps))\n",
    "# geometry = [connection_sites] + sphere_caps"
   ]
  },
  {
   "cell_type": "markdown",
   "metadata": {},
   "source": [
    "Now lets use our previously defined lattice to tile these cylinders into a crystal."
   ]
  },
  {
   "cell_type": "code",
   "execution_count": 13,
   "metadata": {},
   "outputs": [],
   "source": [
    "a1_reps = 1\n",
    "a2_reps = 1\n",
    "a3_reps = 1\n",
    "crystal = geo_lattice.tile_geogeometry(sphere_caps, a1_reps, a2_reps, a3_reps )"
   ]
  },
  {
   "cell_type": "markdown",
   "metadata": {},
   "source": [
    "We can visualize this using CrystalBuilder's viewer package, which builds the structure as a Vedo scene. "
   ]
  },
  {
   "cell_type": "code",
   "execution_count": 14,
   "metadata": {},
   "outputs": [],
   "source": [
    "scene = viewer.visualize(crystal)\n",
    "scene.show().close()\n",
    "objects = scene.get_meshes()\n",
    "\n",
    "k=0\n",
    "string = f\"square_diamond/group-object.obj\"\n",
    "# vedo.write_group(objects, string)\n",
    "for obj in objects:\n",
    "    k+=1\n",
    "    string=f\"182/object-{k}.obj\"\n",
    "    vedo.write(obj, string)\n"
   ]
  }
 ],
 "metadata": {
  "kernelspec": {
   "display_name": "simulation",
   "language": "python",
   "name": "python3"
  },
  "language_info": {
   "codemirror_mode": {
    "name": "ipython",
    "version": 3
   },
   "file_extension": ".py",
   "mimetype": "text/x-python",
   "name": "python",
   "nbconvert_exporter": "python",
   "pygments_lexer": "ipython3",
   "version": "3.11.5"
  }
 },
 "nbformat": 4,
 "nbformat_minor": 2
}
