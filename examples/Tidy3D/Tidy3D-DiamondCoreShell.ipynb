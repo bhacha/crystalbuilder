{
 "cells": [
  {
   "cell_type": "code",
   "execution_count": 4,
   "id": "ed127808",
   "metadata": {},
   "outputs": [
    {
     "name": "stdout",
     "output_type": "stream",
     "text": [
      "Error: Lumpy and/or the Lumerical API were not found.\n"
     ]
    }
   ],
   "source": [
    "from crystalbuilder import *\n",
    "import crystalbuilder.geometry as geo\n",
    "import matplotlib.pyplot as plt\n",
    "import tidy3d as td\n",
    "import crystalbuilder.convert as cv\n",
    "import numpy as np\n",
    "import vedo"
   ]
  },
  {
   "cell_type": "markdown",
   "id": "dbfea752",
   "metadata": {},
   "source": [
    "Here we will create a simulation of the core-shell diamond crystal. This is a rod-connected diamond with a cubic conventional cell. We'll set it up in the usual manner, but we can use an actual distance in nanometers for our lattice constant. `a_mag` is this constant in microns (Tidy3D default units)"
   ]
  },
  {
   "cell_type": "code",
   "execution_count": 5,
   "id": "1ee342fc",
   "metadata": {},
   "outputs": [],
   "source": [
    "lattice_constant = 700 #nm\n",
    "\n",
    "a1 = [1, 0, 0]\n",
    "a2 = [0, 1 ,0]\n",
    "a3 = [0, 0, 1]\n",
    "\n",
    "a_mag = lattice_constant/1000 #convert to microns\n",
    "geo_lattice = lattice.Lattice(a1, a2, a3, magnitude = [a_mag, a_mag, a_mag])"
   ]
  },
  {
   "cell_type": "markdown",
   "id": "0cc2f9c5",
   "metadata": {},
   "source": [
    "We'll load our points from Bilbao (or a local copy if already done before). We don't scale any of this using the lattice constant.  "
   ]
  },
  {
   "cell_type": "code",
   "execution_count": 6,
   "id": "d1b7488c",
   "metadata": {},
   "outputs": [],
   "source": [
    "diamond = bilbao.SpaceGroup(227)\n",
    "pt = 1/8\n",
    "points = diamond.calculate_points(point_list=[(pt, pt, pt)]) #This is the 8a wyckoff position"
   ]
  },
  {
   "cell_type": "markdown",
   "id": "beb4b07b",
   "metadata": {},
   "source": [
    "The IUCr tabulated general positions are in units of the lattice constant. After we connect the nearest neighbors, we convert to our micron units and scale the structure. This is done by passing `a_mag` to `NearestNeighbors()`. "
   ]
  },
  {
   "cell_type": "code",
   "execution_count": 7,
   "id": "8f0ffece",
   "metadata": {},
   "outputs": [],
   "source": [
    "radius = .05 #microns\n",
    "\n",
    "crystal_core = geo.NearestNeighbors(points, radius=radius, neighborhood_range=.45, a_mag=a_mag)"
   ]
  },
  {
   "cell_type": "markdown",
   "id": "d987d3ac",
   "metadata": {},
   "source": [
    "For our core-shell structure, we will just create a slightly larger (by `shell_radius`) set of connected rods. "
   ]
  },
  {
   "cell_type": "code",
   "execution_count": 23,
   "id": "85e58348",
   "metadata": {},
   "outputs": [],
   "source": [
    "shell_radius = .0125 #microns\n",
    "\n",
    "crystal_shell = geo.NearestNeighbors(points, radius=(radius+shell_radius), neighborhood_range=.45, a_mag=a_mag)"
   ]
  },
  {
   "cell_type": "markdown",
   "id": "d6781fbd",
   "metadata": {},
   "source": [
    "The geometry is just a combination of these two lattices, **making sure to include the core *after* the shell**. In Tidy3D, items later in the list will override earlier ones."
   ]
  },
  {
   "cell_type": "code",
   "execution_count": 24,
   "id": "2a48427a",
   "metadata": {},
   "outputs": [],
   "source": [
    "geometry = [crystal_shell, crystal_core]"
   ]
  },
  {
   "cell_type": "code",
   "execution_count": 25,
   "id": "e97b4ca6",
   "metadata": {},
   "outputs": [
    {
     "name": "stdout",
     "output_type": "stream",
     "text": [
      "2304\n",
      "2304\n"
     ]
    }
   ],
   "source": [
    "a1_reps = 6\n",
    "a2_reps = 6\n",
    "a3_reps = 4\n",
    "crystal = geo_lattice.tile_geogeometry(geometry, a1_reps, a2_reps, a3_reps )\n",
    "print(len(crystal[0]))\n",
    "print(len(crystal[1]))"
   ]
  },
  {
   "cell_type": "code",
   "execution_count": 26,
   "id": "3c00fa77",
   "metadata": {},
   "outputs": [],
   "source": [
    "scene = viewer.visualize(crystal[1], c='white', res=5)\n",
    "viewer.add_to_visualizer(crystal[0], scene, c='red', alpha=.5, res=5)\n",
    "\n",
    "\n",
    "# scene.show().close()"
   ]
  },
  {
   "cell_type": "code",
   "execution_count": 27,
   "id": "9ac28ac2",
   "metadata": {},
   "outputs": [],
   "source": [
    "shell = cv.geo_to_tidy3d(crystal[0], 3.4, name=\"Shell\", material_name=\"HPCVD-Si\")\n",
    "core = cv.geo_to_tidy3d(crystal[1], 1.75, name=\"Core\", material_name = \"FEBID-Pt\")"
   ]
  },
  {
   "cell_type": "code",
   "execution_count": 29,
   "id": "98af1a58",
   "metadata": {},
   "outputs": [
    {
     "name": "stdout",
     "output_type": "stream",
     "text": [
      "[1.87370286e+14 4.28274940e+14]\n"
     ]
    }
   ],
   "source": [
    "# create source\n",
    "lda0 = 1.25  # wavelength of interest (length scales are micrometers in Tidy3D)\n",
    "src_wavelengths = [.7, 1.6]\n",
    "\n",
    "src_freqs = np.sort(td.C_0 / np.asarray(src_wavelengths))\n",
    "freq0 = np.mean(src_freqs)  # frequency of interest\n",
    "print(src_freqs)\n"
   ]
  },
  {
   "cell_type": "code",
   "execution_count": 17,
   "id": "0427a8fb",
   "metadata": {},
   "outputs": [
    {
     "ename": "AttributeError",
     "evalue": "'numpy.ndarray' object has no attribute 'json'",
     "output_type": "error",
     "traceback": [
      "\u001b[31m---------------------------------------------------------------------------\u001b[39m",
      "\u001b[31mAttributeError\u001b[39m                            Traceback (most recent call last)",
      "\u001b[36mCell\u001b[39m\u001b[36m \u001b[39m\u001b[32mIn[17]\u001b[39m\u001b[32m, line 1\u001b[39m\n\u001b[32m----> \u001b[39m\u001b[32m1\u001b[39m \u001b[43msrc_freqs\u001b[49m\u001b[43m.\u001b[49m\u001b[43mjson\u001b[49m()\n",
      "\u001b[31mAttributeError\u001b[39m: 'numpy.ndarray' object has no attribute 'json'"
     ]
    }
   ],
   "source": []
  },
  {
   "cell_type": "code",
   "execution_count": 34,
   "id": "ad73fed9",
   "metadata": {},
   "outputs": [
    {
     "data": {
      "text/html": [
       "\n",
       "    <div class=\"simulation-viewer\" data-width=\"800\" data-height=\"800\" data-simulation=\"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\" ></div>\n",
       "    <script>\n",
       "        \n",
       "        /**\n",
       "        * Simulation Viewer Injector\n",
       "        *\n",
       "        * Monitors the document for elements being added in the form:\n",
       "        *\n",
       "        *    <div class=\"simulation-viewer\" data-width=\"800\" data-height=\"800\" data-simulation=\"{...}\" />\n",
       "        *\n",
       "        * This script will then inject an iframe to the viewer application, and pass it the simulation data\n",
       "        * via the postMessage API on request. The script may be safely included multiple times, with only the\n",
       "        * configuration of the first started script (e.g. viewer URL) applying.\n",
       "        *\n",
       "        */\n",
       "        (function() {\n",
       "            const TARGET_CLASS = \"simulation-viewer\";\n",
       "            const ACTIVE_CLASS = \"simulation-viewer-active\";\n",
       "            const VIEWER_URL = \"https://tidy3d.simulation.cloud/simulation-viewer\";\n",
       "\n",
       "            class SimulationViewerInjector {\n",
       "                constructor() {\n",
       "                    for (var node of document.getElementsByClassName(TARGET_CLASS)) {\n",
       "                        this.injectViewer(node);\n",
       "                    }\n",
       "\n",
       "                    // Monitor for newly added nodes to the DOM\n",
       "                    this.observer = new MutationObserver(this.onMutations.bind(this));\n",
       "                    this.observer.observe(document.body, {childList: true, subtree: true});\n",
       "                }\n",
       "\n",
       "                onMutations(mutations) {\n",
       "                    for (var mutation of mutations) {\n",
       "                        if (mutation.type === 'childList') {\n",
       "                            /**\n",
       "                            * Have found that adding the element does not reliably trigger the mutation observer.\n",
       "                            * It may be the case that setting content with innerHTML does not trigger.\n",
       "                            *\n",
       "                            * It seems to be sufficient to re-scan the document for un-activated viewers\n",
       "                            * whenever an event occurs, as Jupyter triggers multiple events on cell evaluation.\n",
       "                            */\n",
       "                            var viewers = document.getElementsByClassName(TARGET_CLASS);\n",
       "                            for (var node of viewers) {\n",
       "                                this.injectViewer(node);\n",
       "                            }\n",
       "                        }\n",
       "                    }\n",
       "                }\n",
       "\n",
       "                injectViewer(node) {\n",
       "                    // (re-)check that this is a valid simulation container and has not already been injected\n",
       "                    if (node.classList.contains(TARGET_CLASS) && !node.classList.contains(ACTIVE_CLASS)) {\n",
       "                        // Mark node as injected, to prevent re-runs\n",
       "                        node.classList.add(ACTIVE_CLASS);\n",
       "\n",
       "                        var uuid;\n",
       "                        if (window.crypto && window.crypto.randomUUID) {\n",
       "                            uuid = window.crypto.randomUUID();\n",
       "                        } else {\n",
       "                            uuid = \"\" + Math.random();\n",
       "                        }\n",
       "\n",
       "                        var frame = document.createElement(\"iframe\");\n",
       "                        frame.width = node.dataset.width || 800;\n",
       "                        frame.height = node.dataset.height || 800;\n",
       "                        frame.style.cssText = `width:${frame.width}px;height:${frame.height}px;max-width:none;border:0;display:block`\n",
       "                        frame.src = VIEWER_URL + \"?uuid=\" + uuid;\n",
       "\n",
       "                        var postMessageToViewer;\n",
       "                        postMessageToViewer = event => {\n",
       "                            if(event.data.type === 'viewer' && event.data.uuid===uuid){\n",
       "                                frame.contentWindow.postMessage({ type: 'jupyter', uuid, value: node.dataset.simulation, fileType: 'hdf5'}, '*');\n",
       "\n",
       "                                // Run once only\n",
       "                                window.removeEventListener('message', postMessageToViewer);\n",
       "                            }\n",
       "                        };\n",
       "                        window.addEventListener(\n",
       "                            'message',\n",
       "                            postMessageToViewer,\n",
       "                            false\n",
       "                        );\n",
       "\n",
       "                        node.appendChild(frame);\n",
       "                    }\n",
       "                }\n",
       "            }\n",
       "\n",
       "            if (!window.simulationViewerInjector) {\n",
       "                window.simulationViewerInjector = new SimulationViewerInjector();\n",
       "            }\n",
       "        })();\n",
       "    \n",
       "    </script>\n",
       "    "
      ],
      "text/plain": [
       "<IPython.core.display.HTML object>"
      ]
     },
     "metadata": {},
     "output_type": "display_data"
    }
   ],
   "source": [
    "\n",
    "def make_sources(frequencies, size, theta_range=[0, 1.2], phi_range = [0, 2*np.pi], number_of_angles = 5, **kwargs):\n",
    "    \n",
    "    center = kwargs.get(\"center\", (0,0,2))\n",
    "    direction = kwargs.get(\"direction\", '-')\n",
    "    phi = np.arange(phi_range[0], phi_range[1], .275)\n",
    "    theta = np.linspace(theta_range[0], theta_range[1], number_of_angles)\n",
    "    num_mons = (len(theta)-1) * len(phi) +1\n",
    "    source_list = []\n",
    "    time_profile = td.GaussianPulse.from_frequency_range(fmin=frequencies[0], fmax=frequencies[1], amplitude = 1/num_mons )\n",
    "    for aang in theta:\n",
    "        if aang == 0:\n",
    "            scaled_time_profile = td.GaussianPulse.from_frequency_range(fmin=frequencies[0], fmax=frequencies[1])\n",
    "            source = td.GaussianBeam(\n",
    "                size = size,\n",
    "                center = center,\n",
    "                source_time = scaled_time_profile,\n",
    "                direction=direction,\n",
    "                waist_radius=2.5,\n",
    "                angle_theta=aang,\n",
    "                angle_phi=0,\n",
    "                name=\"Normal Incidence\"\n",
    "            )\n",
    "            source_list.append(source)\n",
    "            pass\n",
    "        else:\n",
    "            for rang in phi:\n",
    "                source = td.GaussianBeam(\n",
    "                    size = size,\n",
    "                    center = center,\n",
    "                    source_time = time_profile,\n",
    "                    direction=direction,\n",
    "                    waist_radius=2.5,\n",
    "                    angle_theta=aang,\n",
    "                    angle_phi=rang,\n",
    "                    num_freqs=15\n",
    "                )\n",
    "                source_list.append(source)\n",
    "    \n",
    "    return source_list\n",
    "\n",
    "sources = make_sources(src_freqs, theta_range=[0, 1], size=[4,4,0], number_of_angles = 15, center=(-.1, 0, 2))\n",
    "\n",
    "\n",
    "nmonitor_freqs = 25 #Number of frequencies to sample at.\n",
    "\n",
    "monitor_freqs = np.linspace(src_freqs[0], src_freqs[1] ,nmonitor_freqs)\n",
    "\n",
    "farfield_monitor = td.FieldProjectionAngleMonitor(center=[0,0,2.25], \n",
    "                                                  size=[td.inf,td.inf,0],\n",
    "                                                  freqs=(monitor_freqs),\n",
    "                                                  name='farfield_monitor',\n",
    "                                                  phi = np.linspace(0, 2*np.pi, 100),\n",
    "                                                  theta=np.linspace(0,1.2, 70))\n",
    "\n",
    "fieldmon_size = [8,8,0]\n",
    "\n",
    "flux_t_monitor = td.FieldMonitor(center=[0,0,-2], \n",
    "                                size=fieldmon_size,\n",
    "                                freqs=(monitor_freqs),\n",
    "                                name='trans_monitor'  \n",
    ")\n",
    "\n",
    "realflux_r = td.FluxMonitor(center=[0,0,2.25], \n",
    "                                size=fieldmon_size,\n",
    "                                freqs=(monitor_freqs),\n",
    "                                name='refl_fluxmonitor')\n",
    "\n",
    "flux_r_monitor = td.FieldMonitor(center=[0,0,2.25], \n",
    "                                size=fieldmon_size,\n",
    "                                freqs=(monitor_freqs),\n",
    "                                name='refl_monitor')\n",
    "\n",
    "YZ_monitor = td.FieldMonitor(center=[0,0,0], \n",
    "                                size=[0,3,3],\n",
    "                                freqs=(monitor_freqs),\n",
    "                                name='YZ_monitor')\n",
    "\n",
    "\n",
    "\n",
    "\n",
    "monitor_list = [farfield_monitor, flux_t_monitor, flux_r_monitor, YZ_monitor,  realflux_r]\n",
    "\n",
    "simulation_attributes = {\n",
    "    \"sources\" :{\n",
    "        \"frequency_min\": src_freqs[0],\n",
    "        \"frequency_max\": src_freqs[1],\n",
    "        \"frequency_center\": freq0,\n",
    "        \"number\": len(sources),\n",
    "    }\n",
    "    \n",
    "}\n",
    "\n",
    "\n",
    "\n",
    "sim = td.Simulation(\n",
    "    attrs=simulation_attributes,\n",
    "    size=(13, 13, 6),  # simulation domain size\n",
    "    center = (-0.1,0,0),\n",
    "    grid_spec=td.GridSpec.auto(\n",
    "        min_steps_per_wvl=20\n",
    "    ),  # automatic nonuniform FDTD grid with 25 grids per wavelength in the material\n",
    "    structures=[shell, core],\n",
    "    sources=sources,\n",
    "    monitors=monitor_list,\n",
    "    run_time=3e-13,  # physical simulation time in second\n",
    ") # type: ignore\n",
    "sim.plot_3d()\n",
    "\n",
    "\n",
    "\n"
   ]
  },
  {
   "cell_type": "code",
   "execution_count": null,
   "id": "3a34b26e",
   "metadata": {},
   "outputs": [],
   "source": []
  },
  {
   "cell_type": "code",
   "execution_count": 35,
   "id": "0475010e",
   "metadata": {},
   "outputs": [
    {
     "data": {
      "text/html": [
       "<pre style=\"white-space:pre;overflow-x:auto;line-height:normal;font-family:Menlo,'DejaVu Sans Mono',consolas,'Courier New',monospace\"><span style=\"color: #7fbfbf; text-decoration-color: #7fbfbf\">09:15:53 Central Daylight Time </span>Created task <span style=\"color: #008000; text-decoration-color: #008000\">'6x6x4-CoreShell-NormalizationAgain'</span>\n",
       "<span style=\"color: #7fbfbf; text-decoration-color: #7fbfbf\">                               </span>with task_id                                     \n",
       "<span style=\"color: #7fbfbf; text-decoration-color: #7fbfbf\">                               </span><span style=\"color: #008000; text-decoration-color: #008000\">'fdve-6683237c-137c-4c7f-b03a-ce97edd9b935'</span> and  \n",
       "<span style=\"color: #7fbfbf; text-decoration-color: #7fbfbf\">                               </span>task_type <span style=\"color: #008000; text-decoration-color: #008000\">'FDTD'</span>.                                \n",
       "</pre>\n"
      ],
      "text/plain": [
       "\u001b[2;36m09:15:53 Central Daylight Time\u001b[0m\u001b[2;36m \u001b[0mCreated task \u001b[32m'6x6x4-CoreShell-NormalizationAgain'\u001b[0m\n",
       "\u001b[2;36m                               \u001b[0mwith task_id                                     \n",
       "\u001b[2;36m                               \u001b[0m\u001b[32m'fdve-6683237c-137c-4c7f-b03a-ce97edd9b935'\u001b[0m and  \n",
       "\u001b[2;36m                               \u001b[0mtask_type \u001b[32m'FDTD'\u001b[0m.                                \n"
      ]
     },
     "metadata": {},
     "output_type": "display_data"
    },
    {
     "data": {
      "text/html": [
       "<pre style=\"white-space:pre;overflow-x:auto;line-height:normal;font-family:Menlo,'DejaVu Sans Mono',consolas,'Courier New',monospace\"><span style=\"color: #7fbfbf; text-decoration-color: #7fbfbf\">                               </span>View task using web UI at                        \n",
       "<span style=\"color: #7fbfbf; text-decoration-color: #7fbfbf\">                               </span><a href=\"https://tidy3d.simulation.cloud/workbench?taskId=fdve-6683237c-137c-4c7f-b03a-ce97edd9b935\" target=\"_blank\"><span style=\"color: #008000; text-decoration-color: #008000\">'https://tidy3d.simulation.cloud/workbench?taskId</span></a>\n",
       "<span style=\"color: #7fbfbf; text-decoration-color: #7fbfbf\">                               </span><a href=\"https://tidy3d.simulation.cloud/workbench?taskId=fdve-6683237c-137c-4c7f-b03a-ce97edd9b935\" target=\"_blank\"><span style=\"color: #008000; text-decoration-color: #008000\">=fdve-6683237c-137c-4c7f-b03a-ce97edd9b935'</span></a>.     \n",
       "</pre>\n"
      ],
      "text/plain": [
       "\u001b[2;36m                              \u001b[0m\u001b[2;36m \u001b[0mView task using web UI at                        \n",
       "\u001b[2;36m                               \u001b[0m\u001b]8;id=155462;https://tidy3d.simulation.cloud/workbench?taskId=fdve-6683237c-137c-4c7f-b03a-ce97edd9b935\u001b\\\u001b[32m'https://tidy3d.simulation.cloud/workbench?\u001b[0m\u001b]8;;\u001b\\\u001b]8;id=755228;https://tidy3d.simulation.cloud/workbench?taskId=fdve-6683237c-137c-4c7f-b03a-ce97edd9b935\u001b\\\u001b[32mtaskId\u001b[0m\u001b]8;;\u001b\\\n",
       "\u001b[2;36m                               \u001b[0m\u001b]8;id=155462;https://tidy3d.simulation.cloud/workbench?taskId=fdve-6683237c-137c-4c7f-b03a-ce97edd9b935\u001b\\\u001b[32m=\u001b[0m\u001b]8;;\u001b\\\u001b]8;id=142558;https://tidy3d.simulation.cloud/workbench?taskId=fdve-6683237c-137c-4c7f-b03a-ce97edd9b935\u001b\\\u001b[32mfdve\u001b[0m\u001b]8;;\u001b\\\u001b]8;id=155462;https://tidy3d.simulation.cloud/workbench?taskId=fdve-6683237c-137c-4c7f-b03a-ce97edd9b935\u001b\\\u001b[32m-6683237c-137c-4c7f-b03a-ce97edd9b935'\u001b[0m\u001b]8;;\u001b\\.     \n"
      ]
     },
     "metadata": {},
     "output_type": "display_data"
    },
    {
     "data": {
      "text/html": [
       "<pre style=\"white-space:pre;overflow-x:auto;line-height:normal;font-family:Menlo,'DejaVu Sans Mono',consolas,'Courier New',monospace\"><span style=\"color: #7fbfbf; text-decoration-color: #7fbfbf\">                               </span>Task folder: <a href=\"https://tidy3d.simulation.cloud/folders/folder-066bea7d-969e-4af3-be54-8e64815456f0\" target=\"_blank\"><span style=\"color: #008000; text-decoration-color: #008000\">'Multi-Gaussian Reflection'</span></a>.        \n",
       "</pre>\n"
      ],
      "text/plain": [
       "\u001b[2;36m                              \u001b[0m\u001b[2;36m \u001b[0mTask folder: \u001b]8;id=414300;https://tidy3d.simulation.cloud/folders/folder-066bea7d-969e-4af3-be54-8e64815456f0\u001b\\\u001b[32m'Multi-Gaussian Reflection'\u001b[0m\u001b]8;;\u001b\\.        \n"
      ]
     },
     "metadata": {},
     "output_type": "display_data"
    },
    {
     "data": {
      "application/vnd.jupyter.widget-view+json": {
       "model_id": "55be34c76cf54a919418fba7f9d6adcf",
       "version_major": 2,
       "version_minor": 0
      },
      "text/plain": [
       "Output()"
      ]
     },
     "metadata": {},
     "output_type": "display_data"
    },
    {
     "data": {
      "text/html": [
       "<pre style=\"white-space:pre;overflow-x:auto;line-height:normal;font-family:Menlo,'DejaVu Sans Mono',consolas,'Courier New',monospace\"></pre>\n"
      ],
      "text/plain": []
     },
     "metadata": {},
     "output_type": "display_data"
    },
    {
     "data": {
      "text/html": [
       "<pre style=\"white-space:pre;overflow-x:auto;line-height:normal;font-family:Menlo,'DejaVu Sans Mono',consolas,'Courier New',monospace\"><span style=\"color: #7fbfbf; text-decoration-color: #7fbfbf\">09:17:02 Central Daylight Time </span>Maximum FlexCredit cost: <span style=\"color: #008080; text-decoration-color: #008080; font-weight: bold\">0.162</span>. Minimum cost     \n",
       "<span style=\"color: #7fbfbf; text-decoration-color: #7fbfbf\">                               </span>depends on task execution details. Use           \n",
       "<span style=\"color: #7fbfbf; text-decoration-color: #7fbfbf\">                               </span><span style=\"color: #008000; text-decoration-color: #008000\">'web.real_cost(task_id)'</span> to get the billed       \n",
       "<span style=\"color: #7fbfbf; text-decoration-color: #7fbfbf\">                               </span>FlexCredit cost after a simulation run.          \n",
       "</pre>\n"
      ],
      "text/plain": [
       "\u001b[2;36m09:17:02 Central Daylight Time\u001b[0m\u001b[2;36m \u001b[0mMaximum FlexCredit cost: \u001b[1;36m0.162\u001b[0m. Minimum cost     \n",
       "\u001b[2;36m                               \u001b[0mdepends on task execution details. Use           \n",
       "\u001b[2;36m                               \u001b[0m\u001b[32m'web.real_cost\u001b[0m\u001b[32m(\u001b[0m\u001b[32mtask_id\u001b[0m\u001b[32m)\u001b[0m\u001b[32m'\u001b[0m to get the billed       \n",
       "\u001b[2;36m                               \u001b[0mFlexCredit cost after a simulation run.          \n"
      ]
     },
     "metadata": {},
     "output_type": "display_data"
    }
   ],
   "source": [
    "from tidy3d import web\n",
    "\n",
    "task_id = web.upload(sim, task_name=f\"{a1_reps}x{a2_reps}x{a3_reps}-CoreShell-NormalizationAgain\", folder_name=\"Multi-Gaussian Reflection\", verbose=True)"
   ]
  }
 ],
 "metadata": {
  "kernelspec": {
   "display_name": "simulation",
   "language": "python",
   "name": "python3"
  },
  "language_info": {
   "codemirror_mode": {
    "name": "ipython",
    "version": 3
   },
   "file_extension": ".py",
   "mimetype": "text/x-python",
   "name": "python",
   "nbconvert_exporter": "python",
   "pygments_lexer": "ipython3",
   "version": "3.13.5"
  }
 },
 "nbformat": 4,
 "nbformat_minor": 5
}
