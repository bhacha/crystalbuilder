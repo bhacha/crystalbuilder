{
 "cells": [
  {
   "cell_type": "code",
   "execution_count": 3,
   "id": "ed127808",
   "metadata": {},
   "outputs": [
    {
     "name": "stdout",
     "output_type": "stream",
     "text": [
      "Error: Lumpy and/or the Lumerical API were not found.\n"
     ]
    }
   ],
   "source": [
    "from crystalbuilder import *\n",
    "import crystalbuilder.geometry as geo\n",
    "import matplotlib.pyplot as plt\n",
    "import tidy3d as td\n",
    "import crystalbuilder.convert as cv\n",
    "import numpy as np\n",
    "import vedo"
   ]
  },
  {
   "cell_type": "markdown",
   "id": "dbfea752",
   "metadata": {},
   "source": [
    "Here we will create a simulation of the core-shell diamond crystal. This is a rod-connected diamond with a cubic conventional cell. We'll set it up in the usual manner, but we can use an actual distance in nanometers for our lattice constant. `a_mag` is this constant in microns (Tidy3D default units)"
   ]
  },
  {
   "cell_type": "code",
   "execution_count": 4,
   "id": "1ee342fc",
   "metadata": {},
   "outputs": [],
   "source": [
    "lattice_constant = 700 #nm\n",
    "\n",
    "a1 = [1, 0, 0]\n",
    "a2 = [0, 1 ,0]\n",
    "a3 = [0, 0, 1]\n",
    "\n",
    "a_mag = lattice_constant/1000 #convert to microns\n",
    "geo_lattice = lattice.Lattice(a1, a2, a3, magnitude = [a_mag, a_mag, a_mag])"
   ]
  },
  {
   "cell_type": "markdown",
   "id": "0cc2f9c5",
   "metadata": {},
   "source": [
    "We'll load our points from Bilbao (or a local copy if already done before). We don't scale any of this using the lattice constant.  "
   ]
  },
  {
   "cell_type": "code",
   "execution_count": 5,
   "id": "d1b7488c",
   "metadata": {},
   "outputs": [],
   "source": [
    "diamond = bilbao.SpaceGroup(227)\n",
    "pt = 1/8\n",
    "points = diamond.calculate_points(point_list=[(pt, pt, pt)]) #This is the 8a wyckoff position"
   ]
  },
  {
   "cell_type": "markdown",
   "id": "beb4b07b",
   "metadata": {},
   "source": [
    "The IUCr tabulated general positions are in units of the lattice constant. After we connect the nearest neighbors, we convert to our micron units and scale the structure. This is done by passing `a_mag` to `NearestNeighbors()`. "
   ]
  },
  {
   "cell_type": "code",
   "execution_count": 6,
   "id": "8f0ffece",
   "metadata": {},
   "outputs": [],
   "source": [
    "radius = .05 #microns\n",
    "\n",
    "crystal_core = geo.NearestNeighbors(points, radius=radius, neighborhood_range=.45, a_mag=a_mag)"
   ]
  },
  {
   "cell_type": "markdown",
   "id": "d987d3ac",
   "metadata": {},
   "source": [
    "For our core-shell structure, we will just create a slightly larger (by `shell_radius`) set of connected rods. "
   ]
  },
  {
   "cell_type": "code",
   "execution_count": 7,
   "id": "85e58348",
   "metadata": {},
   "outputs": [],
   "source": [
    "shell_radius = .02 #microns\n",
    "\n",
    "crystal_shell = geo.NearestNeighbors(points, radius=(radius+shell_radius), neighborhood_range=.45, a_mag=a_mag)"
   ]
  },
  {
   "cell_type": "markdown",
   "id": "d6781fbd",
   "metadata": {},
   "source": [
    "The geometry is just a combination of these two lattices, **making sure to include the core *after* the shell**. In Tidy3D, items later in the list will override earlier ones."
   ]
  },
  {
   "cell_type": "code",
   "execution_count": 8,
   "id": "2a48427a",
   "metadata": {},
   "outputs": [],
   "source": [
    "geometry = [crystal_shell, crystal_core]"
   ]
  },
  {
   "cell_type": "code",
   "execution_count": 9,
   "id": "e97b4ca6",
   "metadata": {},
   "outputs": [
    {
     "name": "stdout",
     "output_type": "stream",
     "text": [
      "2304\n",
      "2304\n"
     ]
    }
   ],
   "source": [
    "a1_reps = 6\n",
    "a2_reps = 6\n",
    "a3_reps = 4\n",
    "crystal = geo_lattice.tile_geogeometry(geometry, a1_reps, a2_reps, a3_reps )\n",
    "print(len(crystal[0]))\n",
    "print(len(crystal[1]))"
   ]
  },
  {
   "cell_type": "code",
   "execution_count": null,
   "id": "3c00fa77",
   "metadata": {},
   "outputs": [
    {
     "data": {
      "text/plain": [
       "<vedo.plotter.Plotter at 0x14a0fd13e30>"
      ]
     },
     "execution_count": 8,
     "metadata": {},
     "output_type": "execute_result"
    }
   ],
   "source": [
    "scene = viewer.visualize(crystal[1], c='white', res=5)\n",
    "viewer.add_to_visualizer(crystal[0], scene, c='red', alpha=.5, res=5)\n",
    "\n",
    "\n",
    "# scene.show().close()"
   ]
  },
  {
   "cell_type": "code",
   "execution_count": 10,
   "id": "9ac28ac2",
   "metadata": {},
   "outputs": [],
   "source": [
    "shell = cv.geo_to_tidy3d(crystal[0], 3.5, name=\"Shell\")\n",
    "core = cv.geo_to_tidy3d(crystal[1], 1.9, name=\"Core\")"
   ]
  },
  {
   "cell_type": "code",
   "execution_count": 34,
   "id": "98af1a58",
   "metadata": {},
   "outputs": [
    {
     "data": {
      "text/html": [
       "\n",
       "    <div class=\"simulation-viewer\" data-width=\"800\" data-height=\"800\" data-simulation=\"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\" ></div>\n",
       "    <script>\n",
       "        \n",
       "        /**\n",
       "        * Simulation Viewer Injector\n",
       "        *\n",
       "        * Monitors the document for elements being added in the form:\n",
       "        *\n",
       "        *    <div class=\"simulation-viewer\" data-width=\"800\" data-height=\"800\" data-simulation=\"{...}\" />\n",
       "        *\n",
       "        * This script will then inject an iframe to the viewer application, and pass it the simulation data\n",
       "        * via the postMessage API on request. The script may be safely included multiple times, with only the\n",
       "        * configuration of the first started script (e.g. viewer URL) applying.\n",
       "        *\n",
       "        */\n",
       "        (function() {\n",
       "            const TARGET_CLASS = \"simulation-viewer\";\n",
       "            const ACTIVE_CLASS = \"simulation-viewer-active\";\n",
       "            const VIEWER_URL = \"https://tidy3d.simulation.cloud/simulation-viewer\";\n",
       "\n",
       "            class SimulationViewerInjector {\n",
       "                constructor() {\n",
       "                    for (var node of document.getElementsByClassName(TARGET_CLASS)) {\n",
       "                        this.injectViewer(node);\n",
       "                    }\n",
       "\n",
       "                    // Monitor for newly added nodes to the DOM\n",
       "                    this.observer = new MutationObserver(this.onMutations.bind(this));\n",
       "                    this.observer.observe(document.body, {childList: true, subtree: true});\n",
       "                }\n",
       "\n",
       "                onMutations(mutations) {\n",
       "                    for (var mutation of mutations) {\n",
       "                        if (mutation.type === 'childList') {\n",
       "                            /**\n",
       "                            * Have found that adding the element does not reliably trigger the mutation observer.\n",
       "                            * It may be the case that setting content with innerHTML does not trigger.\n",
       "                            *\n",
       "                            * It seems to be sufficient to re-scan the document for un-activated viewers\n",
       "                            * whenever an event occurs, as Jupyter triggers multiple events on cell evaluation.\n",
       "                            */\n",
       "                            var viewers = document.getElementsByClassName(TARGET_CLASS);\n",
       "                            for (var node of viewers) {\n",
       "                                this.injectViewer(node);\n",
       "                            }\n",
       "                        }\n",
       "                    }\n",
       "                }\n",
       "\n",
       "                injectViewer(node) {\n",
       "                    // (re-)check that this is a valid simulation container and has not already been injected\n",
       "                    if (node.classList.contains(TARGET_CLASS) && !node.classList.contains(ACTIVE_CLASS)) {\n",
       "                        // Mark node as injected, to prevent re-runs\n",
       "                        node.classList.add(ACTIVE_CLASS);\n",
       "\n",
       "                        var uuid;\n",
       "                        if (window.crypto && window.crypto.randomUUID) {\n",
       "                            uuid = window.crypto.randomUUID();\n",
       "                        } else {\n",
       "                            uuid = \"\" + Math.random();\n",
       "                        }\n",
       "\n",
       "                        var frame = document.createElement(\"iframe\");\n",
       "                        frame.width = node.dataset.width || 800;\n",
       "                        frame.height = node.dataset.height || 800;\n",
       "                        frame.style.cssText = `width:${frame.width}px;height:${frame.height}px;max-width:none;border:0;display:block`\n",
       "                        frame.src = VIEWER_URL + \"?uuid=\" + uuid;\n",
       "\n",
       "                        var postMessageToViewer;\n",
       "                        postMessageToViewer = event => {\n",
       "                            if(event.data.type === 'viewer' && event.data.uuid===uuid){\n",
       "                                frame.contentWindow.postMessage({ type: 'jupyter', uuid, value: node.dataset.simulation, fileType: 'hdf5'}, '*');\n",
       "\n",
       "                                // Run once only\n",
       "                                window.removeEventListener('message', postMessageToViewer);\n",
       "                            }\n",
       "                        };\n",
       "                        window.addEventListener(\n",
       "                            'message',\n",
       "                            postMessageToViewer,\n",
       "                            false\n",
       "                        );\n",
       "\n",
       "                        node.appendChild(frame);\n",
       "                    }\n",
       "                }\n",
       "            }\n",
       "\n",
       "            if (!window.simulationViewerInjector) {\n",
       "                window.simulationViewerInjector = new SimulationViewerInjector();\n",
       "            }\n",
       "        })();\n",
       "    \n",
       "    </script>\n",
       "    "
      ],
      "text/plain": [
       "<IPython.core.display.HTML object>"
      ]
     },
     "metadata": {},
     "output_type": "display_data"
    }
   ],
   "source": [
    "# create source\n",
    "lda0 = 1  # wavelength of interest (length scales are micrometers in Tidy3D)\n",
    "freq0 = td.C_0 / lda0  # frequency of interest\n",
    "freq_bw = 150e12 #Bandwidth in Hz\n",
    "\n",
    "def make_sources(freq0, freq_bw, size, theta_range=[0, 1.2], phi_range = [0, 2*np.pi], number_of_angles = 5, **kwargs):\n",
    "    time_profile = td.GaussianPulse(freq0=freq0, fwidth=freq_bw)\n",
    "    center = kwargs.get(\"center\", (0,0,2))\n",
    "    direction = kwargs.get(\"direction\", '-')\n",
    "    phi = np.arange(phi_range[0], phi_range[1], .15)\n",
    "    theta = np.linspace(theta_range[0], theta_range[1], number_of_angles)\n",
    "    source_list = []\n",
    "    for rang in phi:\n",
    "        for aang in theta:\n",
    "            source = td.GaussianBeam(\n",
    "                size = size,\n",
    "                center = center,\n",
    "                source_time = time_profile,\n",
    "                direction=direction,\n",
    "                waist_radius=5,\n",
    "                angle_theta=aang,\n",
    "                angle_phi=rang\n",
    "            )\n",
    "            source_list.append(source)\n",
    "    \n",
    "    return source_list\n",
    "\n",
    "sources = make_sources(freq0, freq_bw, size=[1,1,0])\n",
    "\n",
    "\n",
    "\n",
    "\n",
    "sim = td.Simulation(\n",
    "    size=(15, 15, 8),  # simulation domain size\n",
    "    grid_spec=td.GridSpec.auto(\n",
    "        min_steps_per_wvl=20\n",
    "    ),  # automatic nonuniform FDTD grid with 25 grids per wavelength in the material\n",
    "    structures=[shell, core],\n",
    "    sources=sources,\n",
    "    run_time=3e-13,  # physical simulation time in second\n",
    ") # type: ignore\n",
    "sim.plot_3d()\n",
    "\n",
    "\n",
    "\n"
   ]
  },
  {
   "cell_type": "code",
   "execution_count": 35,
   "id": "0475010e",
   "metadata": {},
   "outputs": [
    {
     "data": {
      "text/html": [
       "<pre style=\"white-space:pre;overflow-x:auto;line-height:normal;font-family:Menlo,'DejaVu Sans Mono',consolas,'Courier New',monospace\"><span style=\"color: #7fbfbf; text-decoration-color: #7fbfbf\">21:58:27 Central Daylight Time </span>Created task <span style=\"color: #008000; text-decoration-color: #008000\">'6x6x4-CoreShell-ManyGaussians'</span> with\n",
       "<span style=\"color: #7fbfbf; text-decoration-color: #7fbfbf\">                               </span>task_id                                          \n",
       "<span style=\"color: #7fbfbf; text-decoration-color: #7fbfbf\">                               </span><span style=\"color: #008000; text-decoration-color: #008000\">'fdve-4bf0dade-2aae-4d85-9e9e-c1eb7bb38493'</span> and  \n",
       "<span style=\"color: #7fbfbf; text-decoration-color: #7fbfbf\">                               </span>task_type <span style=\"color: #008000; text-decoration-color: #008000\">'FDTD'</span>.                                \n",
       "</pre>\n"
      ],
      "text/plain": [
       "\u001b[2;36m21:58:27 Central Daylight Time\u001b[0m\u001b[2;36m \u001b[0mCreated task \u001b[32m'6x6x4-CoreShell-ManyGaussians'\u001b[0m with\n",
       "\u001b[2;36m                               \u001b[0mtask_id                                          \n",
       "\u001b[2;36m                               \u001b[0m\u001b[32m'fdve-4bf0dade-2aae-4d85-9e9e-c1eb7bb38493'\u001b[0m and  \n",
       "\u001b[2;36m                               \u001b[0mtask_type \u001b[32m'FDTD'\u001b[0m.                                \n"
      ]
     },
     "metadata": {},
     "output_type": "display_data"
    },
    {
     "data": {
      "text/html": [
       "<pre style=\"white-space:pre;overflow-x:auto;line-height:normal;font-family:Menlo,'DejaVu Sans Mono',consolas,'Courier New',monospace\"><span style=\"color: #7fbfbf; text-decoration-color: #7fbfbf\">                               </span>View task using web UI at                        \n",
       "<span style=\"color: #7fbfbf; text-decoration-color: #7fbfbf\">                               </span><a href=\"https://tidy3d.simulation.cloud/workbench?taskId=fdve-4bf0dade-2aae-4d85-9e9e-c1eb7bb38493\" target=\"_blank\"><span style=\"color: #008000; text-decoration-color: #008000\">'https://tidy3d.simulation.cloud/workbench?taskId</span></a>\n",
       "<span style=\"color: #7fbfbf; text-decoration-color: #7fbfbf\">                               </span><a href=\"https://tidy3d.simulation.cloud/workbench?taskId=fdve-4bf0dade-2aae-4d85-9e9e-c1eb7bb38493\" target=\"_blank\"><span style=\"color: #008000; text-decoration-color: #008000\">=fdve-4bf0dade-2aae-4d85-9e9e-c1eb7bb38493'</span></a>.     \n",
       "</pre>\n"
      ],
      "text/plain": [
       "\u001b[2;36m                              \u001b[0m\u001b[2;36m \u001b[0mView task using web UI at                        \n",
       "\u001b[2;36m                               \u001b[0m\u001b]8;id=275157;https://tidy3d.simulation.cloud/workbench?taskId=fdve-4bf0dade-2aae-4d85-9e9e-c1eb7bb38493\u001b\\\u001b[32m'https://tidy3d.simulation.cloud/workbench?\u001b[0m\u001b]8;;\u001b\\\u001b]8;id=692563;https://tidy3d.simulation.cloud/workbench?taskId=fdve-4bf0dade-2aae-4d85-9e9e-c1eb7bb38493\u001b\\\u001b[32mtaskId\u001b[0m\u001b]8;;\u001b\\\n",
       "\u001b[2;36m                               \u001b[0m\u001b]8;id=275157;https://tidy3d.simulation.cloud/workbench?taskId=fdve-4bf0dade-2aae-4d85-9e9e-c1eb7bb38493\u001b\\\u001b[32m=\u001b[0m\u001b]8;;\u001b\\\u001b]8;id=524394;https://tidy3d.simulation.cloud/workbench?taskId=fdve-4bf0dade-2aae-4d85-9e9e-c1eb7bb38493\u001b\\\u001b[32mfdve\u001b[0m\u001b]8;;\u001b\\\u001b]8;id=275157;https://tidy3d.simulation.cloud/workbench?taskId=fdve-4bf0dade-2aae-4d85-9e9e-c1eb7bb38493\u001b\\\u001b[32m-4bf0dade-2aae-4d85-9e9e-c1eb7bb38493'\u001b[0m\u001b]8;;\u001b\\.     \n"
      ]
     },
     "metadata": {},
     "output_type": "display_data"
    },
    {
     "data": {
      "text/html": [
       "<pre style=\"white-space:pre;overflow-x:auto;line-height:normal;font-family:Menlo,'DejaVu Sans Mono',consolas,'Courier New',monospace\"><span style=\"color: #7fbfbf; text-decoration-color: #7fbfbf\">                               </span>Task folder: <a href=\"https://tidy3d.simulation.cloud/folders/767b270d-f545-4c6b-9509-691c0e60105a\" target=\"_blank\"><span style=\"color: #008000; text-decoration-color: #008000\">'default'</span></a>.                          \n",
       "</pre>\n"
      ],
      "text/plain": [
       "\u001b[2;36m                              \u001b[0m\u001b[2;36m \u001b[0mTask folder: \u001b]8;id=444350;https://tidy3d.simulation.cloud/folders/767b270d-f545-4c6b-9509-691c0e60105a\u001b\\\u001b[32m'default'\u001b[0m\u001b]8;;\u001b\\.                          \n"
      ]
     },
     "metadata": {},
     "output_type": "display_data"
    },
    {
     "data": {
      "text/html": [
       "<pre style=\"white-space:pre;overflow-x:auto;line-height:normal;font-family:Menlo,'DejaVu Sans Mono',consolas,'Courier New',monospace\">c:\\Users\\Brandon\\miniconda3\\envs\\simulation\\Lib\\site-packages\\rich\\live.py:231: \n",
       "UserWarning: install \"ipywidgets\" for Jupyter support\n",
       "  warnings.warn('install \"ipywidgets\" for Jupyter support')\n",
       "</pre>\n"
      ],
      "text/plain": [
       "c:\\Users\\Brandon\\miniconda3\\envs\\simulation\\Lib\\site-packages\\rich\\live.py:231: \n",
       "UserWarning: install \"ipywidgets\" for Jupyter support\n",
       "  warnings.warn('install \"ipywidgets\" for Jupyter support')\n"
      ]
     },
     "metadata": {},
     "output_type": "display_data"
    },
    {
     "data": {
      "text/html": [
       "<pre style=\"white-space:pre;overflow-x:auto;line-height:normal;font-family:Menlo,'DejaVu Sans Mono',consolas,'Courier New',monospace\"></pre>\n"
      ],
      "text/plain": []
     },
     "metadata": {},
     "output_type": "display_data"
    },
    {
     "data": {
      "text/html": [
       "<pre style=\"white-space:pre;overflow-x:auto;line-height:normal;font-family:Menlo,'DejaVu Sans Mono',consolas,'Courier New',monospace\"><span style=\"color: #7fbfbf; text-decoration-color: #7fbfbf\">21:59:31 Central Daylight Time </span>Maximum FlexCredit cost: <span style=\"color: #008080; text-decoration-color: #008080; font-weight: bold\">0.464</span>. Minimum cost     \n",
       "<span style=\"color: #7fbfbf; text-decoration-color: #7fbfbf\">                               </span>depends on task execution details. Use           \n",
       "<span style=\"color: #7fbfbf; text-decoration-color: #7fbfbf\">                               </span><span style=\"color: #008000; text-decoration-color: #008000\">'web.real_cost(task_id)'</span> to get the billed       \n",
       "<span style=\"color: #7fbfbf; text-decoration-color: #7fbfbf\">                               </span>FlexCredit cost after a simulation run.          \n",
       "</pre>\n"
      ],
      "text/plain": [
       "\u001b[2;36m21:59:31 Central Daylight Time\u001b[0m\u001b[2;36m \u001b[0mMaximum FlexCredit cost: \u001b[1;36m0.464\u001b[0m. Minimum cost     \n",
       "\u001b[2;36m                               \u001b[0mdepends on task execution details. Use           \n",
       "\u001b[2;36m                               \u001b[0m\u001b[32m'web.real_cost\u001b[0m\u001b[32m(\u001b[0m\u001b[32mtask_id\u001b[0m\u001b[32m)\u001b[0m\u001b[32m'\u001b[0m to get the billed       \n",
       "\u001b[2;36m                               \u001b[0mFlexCredit cost after a simulation run.          \n"
      ]
     },
     "metadata": {},
     "output_type": "display_data"
    }
   ],
   "source": [
    "from tidy3d import web\n",
    "\n",
    "task_id = web.upload(sim, task_name=f\"{a1_reps}x{a2_reps}x{a3_reps}-CoreShell-ManyGaussians\")"
   ]
  }
 ],
 "metadata": {
  "kernelspec": {
   "display_name": "simulation",
   "language": "python",
   "name": "python3"
  },
  "language_info": {
   "codemirror_mode": {
    "name": "ipython",
    "version": 3
   },
   "file_extension": ".py",
   "mimetype": "text/x-python",
   "name": "python",
   "nbconvert_exporter": "python",
   "pygments_lexer": "ipython3",
   "version": "3.13.5"
  }
 },
 "nbformat": 4,
 "nbformat_minor": 5
}
