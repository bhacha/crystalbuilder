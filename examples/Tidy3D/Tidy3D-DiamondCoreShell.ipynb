{
 "cells": [
  {
   "cell_type": "code",
   "execution_count": 4,
   "id": "ed127808",
   "metadata": {},
   "outputs": [
    {
     "name": "stdout",
     "output_type": "stream",
     "text": [
      "Error: Lumpy and/or the Lumerical API were not found.\n"
     ]
    }
   ],
   "source": [
    "from crystalbuilder import *\n",
    "import crystalbuilder.geometry as geo\n",
    "import matplotlib.pyplot as plt\n",
    "import tidy3d as td\n",
    "import crystalbuilder.convert as cv\n",
    "import numpy as np\n",
    "import vedo"
   ]
  },
  {
   "cell_type": "markdown",
   "id": "dbfea752",
   "metadata": {},
   "source": [
    "Here we will create a simulation of the core-shell diamond crystal. This is a rod-connected diamond with a cubic conventional cell. We'll set it up in the usual manner, but we can use an actual distance in nanometers for our lattice constant. `a_mag` is this constant in microns (Tidy3D default units)"
   ]
  },
  {
   "cell_type": "code",
   "execution_count": 5,
   "id": "1ee342fc",
   "metadata": {},
   "outputs": [],
   "source": [
    "lattice_constant = 700 #nm\n",
    "\n",
    "a1 = [1, 0, 0]\n",
    "a2 = [0, 1 ,0]\n",
    "a3 = [0, 0, 1]\n",
    "\n",
    "a_mag = lattice_constant/1000 #convert to microns\n",
    "geo_lattice = lattice.Lattice(a1, a2, a3, magnitude = [a_mag, a_mag, a_mag])"
   ]
  },
  {
   "cell_type": "markdown",
   "id": "0cc2f9c5",
   "metadata": {},
   "source": [
    "We'll load our points from Bilbao (or a local copy if already done before). We don't scale any of this using the lattice constant.  "
   ]
  },
  {
   "cell_type": "code",
   "execution_count": 6,
   "id": "d1b7488c",
   "metadata": {},
   "outputs": [],
   "source": [
    "diamond = bilbao.SpaceGroup(227)\n",
    "pt = 1/8\n",
    "points = diamond.calculate_points(point_list=[(pt, pt, pt)]) #This is the 8a wyckoff position"
   ]
  },
  {
   "cell_type": "markdown",
   "id": "beb4b07b",
   "metadata": {},
   "source": [
    "The IUCr tabulated general positions are in units of the lattice constant. After we connect the nearest neighbors, we convert to our micron units and scale the structure. This is done by passing `a_mag` to `NearestNeighbors()`. "
   ]
  },
  {
   "cell_type": "code",
   "execution_count": 7,
   "id": "8f0ffece",
   "metadata": {},
   "outputs": [],
   "source": [
    "radius = .05 #microns\n",
    "\n",
    "crystal_core = geo.NearestNeighbors(points, radius=radius, neighborhood_range=.45, a_mag=a_mag)"
   ]
  },
  {
   "cell_type": "markdown",
   "id": "d987d3ac",
   "metadata": {},
   "source": [
    "For our core-shell structure, we will just create a slightly larger (by `shell_radius`) set of connected rods. "
   ]
  },
  {
   "cell_type": "code",
   "execution_count": 8,
   "id": "85e58348",
   "metadata": {},
   "outputs": [],
   "source": [
    "shell_radius = .02 #microns\n",
    "\n",
    "crystal_shell = geo.NearestNeighbors(points, radius=(radius+shell_radius), neighborhood_range=.45, a_mag=a_mag)"
   ]
  },
  {
   "cell_type": "markdown",
   "id": "d6781fbd",
   "metadata": {},
   "source": [
    "The geometry is just a combination of these two lattices, **making sure to include the core *after* the shell**. In Tidy3D, items later in the list will override earlier ones."
   ]
  },
  {
   "cell_type": "code",
   "execution_count": 9,
   "id": "2a48427a",
   "metadata": {},
   "outputs": [],
   "source": [
    "geometry = [crystal_shell, crystal_core]"
   ]
  },
  {
   "cell_type": "code",
   "execution_count": 10,
   "id": "e97b4ca6",
   "metadata": {},
   "outputs": [
    {
     "name": "stdout",
     "output_type": "stream",
     "text": [
      "2304\n",
      "2304\n"
     ]
    }
   ],
   "source": [
    "a1_reps = 6\n",
    "a2_reps = 6\n",
    "a3_reps = 4\n",
    "crystal = geo_lattice.tile_geogeometry(geometry, a1_reps, a2_reps, a3_reps )\n",
    "print(len(crystal[0]))\n",
    "print(len(crystal[1]))"
   ]
  },
  {
   "cell_type": "code",
   "execution_count": 11,
   "id": "3c00fa77",
   "metadata": {},
   "outputs": [],
   "source": [
    "scene = viewer.visualize(crystal[1], c='white', res=5)\n",
    "viewer.add_to_visualizer(crystal[0], scene, c='red', alpha=.5, res=5)\n",
    "\n",
    "\n",
    "# scene.show().close()"
   ]
  },
  {
   "cell_type": "code",
   "execution_count": 12,
   "id": "9ac28ac2",
   "metadata": {},
   "outputs": [],
   "source": [
    "shell = cv.geo_to_tidy3d(crystal[0], 3.4, name=\"Shell\", material_name=\"HPCVD-Si\")\n",
    "core = cv.geo_to_tidy3d(crystal[1], 1.75, name=\"Core\", material_name = \"FEBID-Pt\")"
   ]
  },
  {
   "cell_type": "code",
   "execution_count": 13,
   "id": "98af1a58",
   "metadata": {},
   "outputs": [
    {
     "name": "stdout",
     "output_type": "stream",
     "text": [
      "[1.87370286e+14 4.28274940e+14]\n"
     ]
    }
   ],
   "source": [
    "# create source\n",
    "lda0 = 1.25  # wavelength of interest (length scales are micrometers in Tidy3D)\n",
    "src_wavelengths = [.7, 1.6]\n",
    "\n",
    "src_freqs = np.sort(td.C_0 / np.asarray(src_wavelengths))\n",
    "freq0 = td.C_0 / np.mean(src_wavelengths)  # frequency of interest\n",
    "print(src_freqs)\n"
   ]
  },
  {
   "cell_type": "code",
   "execution_count": 15,
   "id": "ad73fed9",
   "metadata": {},
   "outputs": [
    {
     "data": {
      "text/html": [
       "\n",
       "    <div class=\"simulation-viewer\" data-width=\"800\" data-height=\"800\" data-simulation=\"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\" ></div>\n",
       "    <script>\n",
       "        \n",
       "        /**\n",
       "        * Simulation Viewer Injector\n",
       "        *\n",
       "        * Monitors the document for elements being added in the form:\n",
       "        *\n",
       "        *    <div class=\"simulation-viewer\" data-width=\"800\" data-height=\"800\" data-simulation=\"{...}\" />\n",
       "        *\n",
       "        * This script will then inject an iframe to the viewer application, and pass it the simulation data\n",
       "        * via the postMessage API on request. The script may be safely included multiple times, with only the\n",
       "        * configuration of the first started script (e.g. viewer URL) applying.\n",
       "        *\n",
       "        */\n",
       "        (function() {\n",
       "            const TARGET_CLASS = \"simulation-viewer\";\n",
       "            const ACTIVE_CLASS = \"simulation-viewer-active\";\n",
       "            const VIEWER_URL = \"https://tidy3d.simulation.cloud/simulation-viewer\";\n",
       "\n",
       "            class SimulationViewerInjector {\n",
       "                constructor() {\n",
       "                    for (var node of document.getElementsByClassName(TARGET_CLASS)) {\n",
       "                        this.injectViewer(node);\n",
       "                    }\n",
       "\n",
       "                    // Monitor for newly added nodes to the DOM\n",
       "                    this.observer = new MutationObserver(this.onMutations.bind(this));\n",
       "                    this.observer.observe(document.body, {childList: true, subtree: true});\n",
       "                }\n",
       "\n",
       "                onMutations(mutations) {\n",
       "                    for (var mutation of mutations) {\n",
       "                        if (mutation.type === 'childList') {\n",
       "                            /**\n",
       "                            * Have found that adding the element does not reliably trigger the mutation observer.\n",
       "                            * It may be the case that setting content with innerHTML does not trigger.\n",
       "                            *\n",
       "                            * It seems to be sufficient to re-scan the document for un-activated viewers\n",
       "                            * whenever an event occurs, as Jupyter triggers multiple events on cell evaluation.\n",
       "                            */\n",
       "                            var viewers = document.getElementsByClassName(TARGET_CLASS);\n",
       "                            for (var node of viewers) {\n",
       "                                this.injectViewer(node);\n",
       "                            }\n",
       "                        }\n",
       "                    }\n",
       "                }\n",
       "\n",
       "                injectViewer(node) {\n",
       "                    // (re-)check that this is a valid simulation container and has not already been injected\n",
       "                    if (node.classList.contains(TARGET_CLASS) && !node.classList.contains(ACTIVE_CLASS)) {\n",
       "                        // Mark node as injected, to prevent re-runs\n",
       "                        node.classList.add(ACTIVE_CLASS);\n",
       "\n",
       "                        var uuid;\n",
       "                        if (window.crypto && window.crypto.randomUUID) {\n",
       "                            uuid = window.crypto.randomUUID();\n",
       "                        } else {\n",
       "                            uuid = \"\" + Math.random();\n",
       "                        }\n",
       "\n",
       "                        var frame = document.createElement(\"iframe\");\n",
       "                        frame.width = node.dataset.width || 800;\n",
       "                        frame.height = node.dataset.height || 800;\n",
       "                        frame.style.cssText = `width:${frame.width}px;height:${frame.height}px;max-width:none;border:0;display:block`\n",
       "                        frame.src = VIEWER_URL + \"?uuid=\" + uuid;\n",
       "\n",
       "                        var postMessageToViewer;\n",
       "                        postMessageToViewer = event => {\n",
       "                            if(event.data.type === 'viewer' && event.data.uuid===uuid){\n",
       "                                frame.contentWindow.postMessage({ type: 'jupyter', uuid, value: node.dataset.simulation, fileType: 'hdf5'}, '*');\n",
       "\n",
       "                                // Run once only\n",
       "                                window.removeEventListener('message', postMessageToViewer);\n",
       "                            }\n",
       "                        };\n",
       "                        window.addEventListener(\n",
       "                            'message',\n",
       "                            postMessageToViewer,\n",
       "                            false\n",
       "                        );\n",
       "\n",
       "                        node.appendChild(frame);\n",
       "                    }\n",
       "                }\n",
       "            }\n",
       "\n",
       "            if (!window.simulationViewerInjector) {\n",
       "                window.simulationViewerInjector = new SimulationViewerInjector();\n",
       "            }\n",
       "        })();\n",
       "    \n",
       "    </script>\n",
       "    "
      ],
      "text/plain": [
       "<IPython.core.display.HTML object>"
      ]
     },
     "metadata": {},
     "output_type": "display_data"
    }
   ],
   "source": [
    "def make_sources(frequencies, size, theta_range=[0, 1.2], phi_range = [0, 2*np.pi], number_of_angles = 5, **kwargs):\n",
    "    time_profile = td.GaussianPulse.from_frequency_range(fmin=frequencies[0], fmax=frequencies[1])\n",
    "    center = kwargs.get(\"center\", (0,0,2))\n",
    "    direction = kwargs.get(\"direction\", '-')\n",
    "    phi = np.arange(phi_range[0], phi_range[1], .275)\n",
    "    theta = np.linspace(theta_range[0], theta_range[1], number_of_angles)\n",
    "    source_list = []\n",
    "    for aang in theta:\n",
    "        if aang == 0:\n",
    "            scaled_time_profile = td.GaussianPulse.from_frequency_range(fmin=frequencies[0], fmax=frequencies[1], amplitude=len(phi))\n",
    "            source = td.GaussianBeam(\n",
    "                size = size,\n",
    "                center = center,\n",
    "                source_time = scaled_time_profile,\n",
    "                direction=direction,\n",
    "                waist_radius=2.5,\n",
    "                angle_theta=aang,\n",
    "                angle_phi=0,\n",
    "                name=\"Normal Incidence\"\n",
    "            )\n",
    "            source_list.append(source)\n",
    "            pass\n",
    "        else:\n",
    "            for rang in phi:\n",
    "                source = td.GaussianBeam(\n",
    "                    size = size,\n",
    "                    center = center,\n",
    "                    source_time = time_profile,\n",
    "                    direction=direction,\n",
    "                    waist_radius=2.5,\n",
    "                    angle_theta=aang,\n",
    "                    angle_phi=rang\n",
    "                )\n",
    "                source_list.append(source)\n",
    "    \n",
    "    return source_list\n",
    "\n",
    "sources = make_sources(src_freqs, theta_range=[0, 1], size=[3,3,0], number_of_angles = 15, center=(-.1, 0, 2))\n",
    "\n",
    "\n",
    "nmonitor_freqs = 25 #Number of frequencies to sample at.\n",
    "\n",
    "monitor_freqs = np.linspace(src_freqs[0], src_freqs[1] ,nmonitor_freqs)\n",
    "\n",
    "farfield_monitor = td.FieldProjectionAngleMonitor(center=[0,0,2.25], \n",
    "                                                  size=[td.inf,td.inf,0],\n",
    "                                                  freqs=(monitor_freqs),\n",
    "                                                  name='farfield_monitor',\n",
    "                                                  phi = np.linspace(0, 2*np.pi, 100),\n",
    "                                                  theta=np.linspace(0,1.2, 70))\n",
    "\n",
    "flux_t_monitor = td.FieldMonitor(center=[0,0,-2], \n",
    "                                size=[td.inf,td.inf,0],\n",
    "                                freqs=(monitor_freqs),\n",
    "                                name='trans_monitor'  \n",
    ")\n",
    "\n",
    "flux_r_monitor = td.FieldMonitor(center=[0,0,2.25], \n",
    "                                size=[td.inf,td.inf,0],\n",
    "                                freqs=(monitor_freqs),\n",
    "                                name='refl_monitor')\n",
    "\n",
    "YZ_monitor = td.FieldMonitor(center=[0,0,0], \n",
    "                                size=[0,3,3],\n",
    "                                freqs=(monitor_freqs),\n",
    "                                name='YZ_monitor')\n",
    "\n",
    "\n",
    "\n",
    "\n",
    "monitor_list = [farfield_monitor, flux_t_monitor, flux_r_monitor, YZ_monitor]\n",
    "sim = td.Simulation(\n",
    "    size=(10, 10, 6),  # simulation domain size\n",
    "    center = (-.1,0,0),\n",
    "    grid_spec=td.GridSpec.auto(\n",
    "        min_steps_per_wvl=25\n",
    "    ),  # automatic nonuniform FDTD grid with 25 grids per wavelength in the material\n",
    "    structures=[shell, core],\n",
    "    sources=sources,\n",
    "    monitors=monitor_list,\n",
    "    run_time=3e-13,  # physical simulation time in second\n",
    ") # type: ignore\n",
    "sim.plot_3d()\n",
    "\n",
    "\n",
    "\n"
   ]
  },
  {
   "cell_type": "code",
   "execution_count": 16,
   "id": "0475010e",
   "metadata": {},
   "outputs": [
    {
     "data": {
      "text/html": [
       "<pre style=\"white-space:pre;overflow-x:auto;line-height:normal;font-family:Menlo,'DejaVu Sans Mono',consolas,'Courier New',monospace\"><span style=\"color: #7fbfbf; text-decoration-color: #7fbfbf\">08:02:19 Central Daylight Time </span>Created task <span style=\"color: #008000; text-decoration-color: #008000\">'6x6x4-CoreShell-Centered'</span> with     \n",
       "<span style=\"color: #7fbfbf; text-decoration-color: #7fbfbf\">                               </span>task_id                                          \n",
       "<span style=\"color: #7fbfbf; text-decoration-color: #7fbfbf\">                               </span><span style=\"color: #008000; text-decoration-color: #008000\">'fdve-3afbf302-26c7-421d-a55a-7175b58d11e5'</span> and  \n",
       "<span style=\"color: #7fbfbf; text-decoration-color: #7fbfbf\">                               </span>task_type <span style=\"color: #008000; text-decoration-color: #008000\">'FDTD'</span>.                                \n",
       "</pre>\n"
      ],
      "text/plain": [
       "\u001b[2;36m08:02:19 Central Daylight Time\u001b[0m\u001b[2;36m \u001b[0mCreated task \u001b[32m'6x6x4-CoreShell-Centered'\u001b[0m with     \n",
       "\u001b[2;36m                               \u001b[0mtask_id                                          \n",
       "\u001b[2;36m                               \u001b[0m\u001b[32m'fdve-3afbf302-26c7-421d-a55a-7175b58d11e5'\u001b[0m and  \n",
       "\u001b[2;36m                               \u001b[0mtask_type \u001b[32m'FDTD'\u001b[0m.                                \n"
      ]
     },
     "metadata": {},
     "output_type": "display_data"
    },
    {
     "data": {
      "text/html": [
       "<pre style=\"white-space:pre;overflow-x:auto;line-height:normal;font-family:Menlo,'DejaVu Sans Mono',consolas,'Courier New',monospace\"><span style=\"color: #7fbfbf; text-decoration-color: #7fbfbf\">                               </span>View task using web UI at                        \n",
       "<span style=\"color: #7fbfbf; text-decoration-color: #7fbfbf\">                               </span><a href=\"https://tidy3d.simulation.cloud/workbench?taskId=fdve-3afbf302-26c7-421d-a55a-7175b58d11e5\" target=\"_blank\"><span style=\"color: #008000; text-decoration-color: #008000\">'https://tidy3d.simulation.cloud/workbench?taskId</span></a>\n",
       "<span style=\"color: #7fbfbf; text-decoration-color: #7fbfbf\">                               </span><a href=\"https://tidy3d.simulation.cloud/workbench?taskId=fdve-3afbf302-26c7-421d-a55a-7175b58d11e5\" target=\"_blank\"><span style=\"color: #008000; text-decoration-color: #008000\">=fdve-3afbf302-26c7-421d-a55a-7175b58d11e5'</span></a>.     \n",
       "</pre>\n"
      ],
      "text/plain": [
       "\u001b[2;36m                              \u001b[0m\u001b[2;36m \u001b[0mView task using web UI at                        \n",
       "\u001b[2;36m                               \u001b[0m\u001b]8;id=842551;https://tidy3d.simulation.cloud/workbench?taskId=fdve-3afbf302-26c7-421d-a55a-7175b58d11e5\u001b\\\u001b[32m'https://tidy3d.simulation.cloud/workbench?\u001b[0m\u001b]8;;\u001b\\\u001b]8;id=713527;https://tidy3d.simulation.cloud/workbench?taskId=fdve-3afbf302-26c7-421d-a55a-7175b58d11e5\u001b\\\u001b[32mtaskId\u001b[0m\u001b]8;;\u001b\\\n",
       "\u001b[2;36m                               \u001b[0m\u001b]8;id=842551;https://tidy3d.simulation.cloud/workbench?taskId=fdve-3afbf302-26c7-421d-a55a-7175b58d11e5\u001b\\\u001b[32m=\u001b[0m\u001b]8;;\u001b\\\u001b]8;id=485292;https://tidy3d.simulation.cloud/workbench?taskId=fdve-3afbf302-26c7-421d-a55a-7175b58d11e5\u001b\\\u001b[32mfdve\u001b[0m\u001b]8;;\u001b\\\u001b]8;id=842551;https://tidy3d.simulation.cloud/workbench?taskId=fdve-3afbf302-26c7-421d-a55a-7175b58d11e5\u001b\\\u001b[32m-3afbf302-26c7-421d-a55a-7175b58d11e5'\u001b[0m\u001b]8;;\u001b\\.     \n"
      ]
     },
     "metadata": {},
     "output_type": "display_data"
    },
    {
     "data": {
      "text/html": [
       "<pre style=\"white-space:pre;overflow-x:auto;line-height:normal;font-family:Menlo,'DejaVu Sans Mono',consolas,'Courier New',monospace\"><span style=\"color: #7fbfbf; text-decoration-color: #7fbfbf\">                               </span>Task folder: <a href=\"https://tidy3d.simulation.cloud/folders/folder-066bea7d-969e-4af3-be54-8e64815456f0\" target=\"_blank\"><span style=\"color: #008000; text-decoration-color: #008000\">'Multi-Gaussian Reflection'</span></a>.        \n",
       "</pre>\n"
      ],
      "text/plain": [
       "\u001b[2;36m                              \u001b[0m\u001b[2;36m \u001b[0mTask folder: \u001b]8;id=173912;https://tidy3d.simulation.cloud/folders/folder-066bea7d-969e-4af3-be54-8e64815456f0\u001b\\\u001b[32m'Multi-Gaussian Reflection'\u001b[0m\u001b]8;;\u001b\\.        \n"
      ]
     },
     "metadata": {},
     "output_type": "display_data"
    },
    {
     "data": {
      "application/vnd.jupyter.widget-view+json": {
       "model_id": "c9c9e020ca7747f28af7514607b2315f",
       "version_major": 2,
       "version_minor": 0
      },
      "text/plain": [
       "Output()"
      ]
     },
     "metadata": {},
     "output_type": "display_data"
    },
    {
     "data": {
      "text/html": [
       "<pre style=\"white-space:pre;overflow-x:auto;line-height:normal;font-family:Menlo,'DejaVu Sans Mono',consolas,'Courier New',monospace\"></pre>\n"
      ],
      "text/plain": []
     },
     "metadata": {},
     "output_type": "display_data"
    },
    {
     "data": {
      "text/html": [
       "<pre style=\"white-space:pre;overflow-x:auto;line-height:normal;font-family:Menlo,'DejaVu Sans Mono',consolas,'Courier New',monospace\"><span style=\"color: #7fbfbf; text-decoration-color: #7fbfbf\">08:03:26 Central Daylight Time </span>Maximum FlexCredit cost: <span style=\"color: #008080; text-decoration-color: #008080; font-weight: bold\">0.359</span>. Minimum cost     \n",
       "<span style=\"color: #7fbfbf; text-decoration-color: #7fbfbf\">                               </span>depends on task execution details. Use           \n",
       "<span style=\"color: #7fbfbf; text-decoration-color: #7fbfbf\">                               </span><span style=\"color: #008000; text-decoration-color: #008000\">'web.real_cost(task_id)'</span> to get the billed       \n",
       "<span style=\"color: #7fbfbf; text-decoration-color: #7fbfbf\">                               </span>FlexCredit cost after a simulation run.          \n",
       "</pre>\n"
      ],
      "text/plain": [
       "\u001b[2;36m08:03:26 Central Daylight Time\u001b[0m\u001b[2;36m \u001b[0mMaximum FlexCredit cost: \u001b[1;36m0.359\u001b[0m. Minimum cost     \n",
       "\u001b[2;36m                               \u001b[0mdepends on task execution details. Use           \n",
       "\u001b[2;36m                               \u001b[0m\u001b[32m'web.real_cost\u001b[0m\u001b[32m(\u001b[0m\u001b[32mtask_id\u001b[0m\u001b[32m)\u001b[0m\u001b[32m'\u001b[0m to get the billed       \n",
       "\u001b[2;36m                               \u001b[0mFlexCredit cost after a simulation run.          \n"
      ]
     },
     "metadata": {},
     "output_type": "display_data"
    }
   ],
   "source": [
    "from tidy3d import web\n",
    "\n",
    "task_id = web.upload(sim, task_name=f\"{a1_reps}x{a2_reps}x{a3_reps}-CoreShell-Centered\", folder_name=\"Multi-Gaussian Reflection\", verbose=True)"
   ]
  }
 ],
 "metadata": {
  "kernelspec": {
   "display_name": "simulation",
   "language": "python",
   "name": "python3"
  },
  "language_info": {
   "codemirror_mode": {
    "name": "ipython",
    "version": 3
   },
   "file_extension": ".py",
   "mimetype": "text/x-python",
   "name": "python",
   "nbconvert_exporter": "python",
   "pygments_lexer": "ipython3",
   "version": "3.13.5"
  }
 },
 "nbformat": 4,
 "nbformat_minor": 5
}
