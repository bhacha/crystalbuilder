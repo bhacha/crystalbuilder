{
 "cells": [
  {
   "cell_type": "code",
   "execution_count": 1,
   "id": "ed127808",
   "metadata": {},
   "outputs": [
    {
     "name": "stdout",
     "output_type": "stream",
     "text": [
      "Error: Lumpy and/or the Lumerical API were not found.\n"
     ]
    }
   ],
   "source": [
    "from crystalbuilder import *\n",
    "import crystalbuilder.geometry as geo\n",
    "import matplotlib.pyplot as plt\n",
    "import tidy3d as td\n",
    "import crystalbuilder.convert as cv\n",
    "import numpy as np\n",
    "import vedo"
   ]
  },
  {
   "cell_type": "markdown",
   "id": "dbfea752",
   "metadata": {},
   "source": [
    "Here we will create a simulation of the core-shell diamond crystal. This is a rod-connected diamond with a cubic conventional cell. We'll set it up in the usual manner, but we can use an actual distance in nanometers for our lattice constant. `a_mag` is this constant in microns (Tidy3D default units)"
   ]
  },
  {
   "cell_type": "code",
   "execution_count": 2,
   "id": "1ee342fc",
   "metadata": {},
   "outputs": [],
   "source": [
    "lattice_constant = 700 #nm\n",
    "\n",
    "a1 = [1, 0, 0]\n",
    "a2 = [0, 1 ,0]\n",
    "a3 = [0, 0, 1]\n",
    "\n",
    "a_mag = lattice_constant/1000 #convert to microns\n",
    "geo_lattice = lattice.Lattice(a1, a2, a3, magnitude = [a_mag, a_mag, a_mag])"
   ]
  },
  {
   "cell_type": "markdown",
   "id": "0cc2f9c5",
   "metadata": {},
   "source": [
    "We'll load our points from Bilbao (or a local copy if already done before). We don't scale any of this using the lattice constant.  "
   ]
  },
  {
   "cell_type": "code",
   "execution_count": 3,
   "id": "d1b7488c",
   "metadata": {},
   "outputs": [],
   "source": [
    "diamond = bilbao.SpaceGroup(227)\n",
    "pt = 1/8\n",
    "points = diamond.calculate_points(point_list=[(pt, pt, pt)]) #This is the 8a wyckoff position"
   ]
  },
  {
   "cell_type": "markdown",
   "id": "beb4b07b",
   "metadata": {},
   "source": [
    "The IUCr tabulated general positions are in units of the lattice constant. After we connect the nearest neighbors, we convert to our micron units and scale the structure. This is done by passing `a_mag` to `NearestNeighbors()`. "
   ]
  },
  {
   "cell_type": "code",
   "execution_count": 4,
   "id": "8f0ffece",
   "metadata": {},
   "outputs": [],
   "source": [
    "radius = .05 #microns\n",
    "\n",
    "crystal_core = geo.NearestNeighbors(points, radius=radius, neighborhood_range=.45, a_mag=a_mag)"
   ]
  },
  {
   "cell_type": "markdown",
   "id": "d987d3ac",
   "metadata": {},
   "source": [
    "For our core-shell structure, we will just create a slightly larger (by `shell_radius`) set of connected rods. "
   ]
  },
  {
   "cell_type": "code",
   "execution_count": 5,
   "id": "85e58348",
   "metadata": {},
   "outputs": [],
   "source": [
    "shell_radius = .02 #microns\n",
    "\n",
    "crystal_shell = geo.NearestNeighbors(points, radius=(radius+shell_radius), neighborhood_range=.45, a_mag=a_mag)"
   ]
  },
  {
   "cell_type": "markdown",
   "id": "d6781fbd",
   "metadata": {},
   "source": [
    "The geometry is just a combination of these two lattices, **making sure to include the core *after* the shell**. In Tidy3D, items later in the list will override earlier ones."
   ]
  },
  {
   "cell_type": "code",
   "execution_count": 6,
   "id": "2a48427a",
   "metadata": {},
   "outputs": [],
   "source": [
    "geometry = [crystal_shell, crystal_core]"
   ]
  },
  {
   "cell_type": "code",
   "execution_count": 7,
   "id": "e97b4ca6",
   "metadata": {},
   "outputs": [
    {
     "name": "stdout",
     "output_type": "stream",
     "text": [
      "2304\n",
      "2304\n"
     ]
    }
   ],
   "source": [
    "a1_reps = 6\n",
    "a2_reps = 6\n",
    "a3_reps = 4\n",
    "crystal = geo_lattice.tile_geogeometry(geometry, a1_reps, a2_reps, a3_reps )\n",
    "print(len(crystal[0]))\n",
    "print(len(crystal[1]))"
   ]
  },
  {
   "cell_type": "code",
   "execution_count": 8,
   "id": "3c00fa77",
   "metadata": {},
   "outputs": [],
   "source": [
    "scene = viewer.visualize(crystal[1], c='white', res=5)\n",
    "viewer.add_to_visualizer(crystal[0], scene, c='red', alpha=.5, res=5)\n",
    "\n",
    "\n",
    "# scene.show().close()"
   ]
  },
  {
   "cell_type": "code",
   "execution_count": 9,
   "id": "9ac28ac2",
   "metadata": {},
   "outputs": [],
   "source": [
    "shell = cv.geo_to_tidy3d(crystal[0], 3.5, name=\"Shell\", material_name=\"HPCVD-Si\")\n",
    "core = cv.geo_to_tidy3d(crystal[1], 1.9, name=\"Core\", material_name = \"FEBID-Pt\")"
   ]
  },
  {
   "cell_type": "code",
   "execution_count": 14,
   "id": "98af1a58",
   "metadata": {},
   "outputs": [
    {
     "name": "stdout",
     "output_type": "stream",
     "text": [
      "[1.87370286e+14 4.28274940e+14]\n"
     ]
    }
   ],
   "source": [
    "# create source\n",
    "lda0 = 1.25  # wavelength of interest (length scales are micrometers in Tidy3D)\n",
    "src_wavelengths = [.7, 1.6]\n",
    "\n",
    "src_freqs = np.sort(td.C_0 / np.asarray(src_wavelengths))\n",
    "freq0 = td.C_0 / np.mean(src_wavelengths)  # frequency of interest\n",
    "print(src_freqs)\n"
   ]
  },
  {
   "cell_type": "code",
   "execution_count": 17,
   "id": "ad73fed9",
   "metadata": {},
   "outputs": [
    {
     "data": {
      "text/html": [
       "\n",
       "    <div class=\"simulation-viewer\" data-width=\"800\" data-height=\"800\" data-simulation=\"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\" ></div>\n",
       "    <script>\n",
       "        \n",
       "        /**\n",
       "        * Simulation Viewer Injector\n",
       "        *\n",
       "        * Monitors the document for elements being added in the form:\n",
       "        *\n",
       "        *    <div class=\"simulation-viewer\" data-width=\"800\" data-height=\"800\" data-simulation=\"{...}\" />\n",
       "        *\n",
       "        * This script will then inject an iframe to the viewer application, and pass it the simulation data\n",
       "        * via the postMessage API on request. The script may be safely included multiple times, with only the\n",
       "        * configuration of the first started script (e.g. viewer URL) applying.\n",
       "        *\n",
       "        */\n",
       "        (function() {\n",
       "            const TARGET_CLASS = \"simulation-viewer\";\n",
       "            const ACTIVE_CLASS = \"simulation-viewer-active\";\n",
       "            const VIEWER_URL = \"https://tidy3d.simulation.cloud/simulation-viewer\";\n",
       "\n",
       "            class SimulationViewerInjector {\n",
       "                constructor() {\n",
       "                    for (var node of document.getElementsByClassName(TARGET_CLASS)) {\n",
       "                        this.injectViewer(node);\n",
       "                    }\n",
       "\n",
       "                    // Monitor for newly added nodes to the DOM\n",
       "                    this.observer = new MutationObserver(this.onMutations.bind(this));\n",
       "                    this.observer.observe(document.body, {childList: true, subtree: true});\n",
       "                }\n",
       "\n",
       "                onMutations(mutations) {\n",
       "                    for (var mutation of mutations) {\n",
       "                        if (mutation.type === 'childList') {\n",
       "                            /**\n",
       "                            * Have found that adding the element does not reliably trigger the mutation observer.\n",
       "                            * It may be the case that setting content with innerHTML does not trigger.\n",
       "                            *\n",
       "                            * It seems to be sufficient to re-scan the document for un-activated viewers\n",
       "                            * whenever an event occurs, as Jupyter triggers multiple events on cell evaluation.\n",
       "                            */\n",
       "                            var viewers = document.getElementsByClassName(TARGET_CLASS);\n",
       "                            for (var node of viewers) {\n",
       "                                this.injectViewer(node);\n",
       "                            }\n",
       "                        }\n",
       "                    }\n",
       "                }\n",
       "\n",
       "                injectViewer(node) {\n",
       "                    // (re-)check that this is a valid simulation container and has not already been injected\n",
       "                    if (node.classList.contains(TARGET_CLASS) && !node.classList.contains(ACTIVE_CLASS)) {\n",
       "                        // Mark node as injected, to prevent re-runs\n",
       "                        node.classList.add(ACTIVE_CLASS);\n",
       "\n",
       "                        var uuid;\n",
       "                        if (window.crypto && window.crypto.randomUUID) {\n",
       "                            uuid = window.crypto.randomUUID();\n",
       "                        } else {\n",
       "                            uuid = \"\" + Math.random();\n",
       "                        }\n",
       "\n",
       "                        var frame = document.createElement(\"iframe\");\n",
       "                        frame.width = node.dataset.width || 800;\n",
       "                        frame.height = node.dataset.height || 800;\n",
       "                        frame.style.cssText = `width:${frame.width}px;height:${frame.height}px;max-width:none;border:0;display:block`\n",
       "                        frame.src = VIEWER_URL + \"?uuid=\" + uuid;\n",
       "\n",
       "                        var postMessageToViewer;\n",
       "                        postMessageToViewer = event => {\n",
       "                            if(event.data.type === 'viewer' && event.data.uuid===uuid){\n",
       "                                frame.contentWindow.postMessage({ type: 'jupyter', uuid, value: node.dataset.simulation, fileType: 'hdf5'}, '*');\n",
       "\n",
       "                                // Run once only\n",
       "                                window.removeEventListener('message', postMessageToViewer);\n",
       "                            }\n",
       "                        };\n",
       "                        window.addEventListener(\n",
       "                            'message',\n",
       "                            postMessageToViewer,\n",
       "                            false\n",
       "                        );\n",
       "\n",
       "                        node.appendChild(frame);\n",
       "                    }\n",
       "                }\n",
       "            }\n",
       "\n",
       "            if (!window.simulationViewerInjector) {\n",
       "                window.simulationViewerInjector = new SimulationViewerInjector();\n",
       "            }\n",
       "        })();\n",
       "    \n",
       "    </script>\n",
       "    "
      ],
      "text/plain": [
       "<IPython.core.display.HTML object>"
      ]
     },
     "metadata": {},
     "output_type": "display_data"
    }
   ],
   "source": [
    "\n",
    "def make_sources(frequencies, size, theta_range=[0, 1.2], phi_range = [0, 2*np.pi], number_of_angles = 5, **kwargs):\n",
    "    time_profile = td.GaussianPulse.from_frequency_range(fmin=frequencies[0], fmax=frequencies[1])\n",
    "    center = kwargs.get(\"center\", (0,0,2))\n",
    "    direction = kwargs.get(\"direction\", '-')\n",
    "    phi = np.arange(phi_range[0], phi_range[1], .275)\n",
    "    theta = np.linspace(theta_range[0], theta_range[1], number_of_angles)\n",
    "    source_list = []\n",
    "    for aang in theta:\n",
    "        if aang == 0:\n",
    "            scaled_time_profile = td.GaussianPulse.from_frequency_range(fmin=frequencies[0], fmax=frequencies[1], amplitude=len(phi))\n",
    "            source = td.GaussianBeam(\n",
    "                size = size,\n",
    "                center = center,\n",
    "                source_time = scaled_time_profile,\n",
    "                direction=direction,\n",
    "                waist_radius=2.5,\n",
    "                angle_theta=aang,\n",
    "                angle_phi=0,\n",
    "                name=\"Normal Incidence\"\n",
    "            )\n",
    "            source_list.append(source)\n",
    "            pass\n",
    "        else:\n",
    "            for rang in phi:\n",
    "                source = td.GaussianBeam(\n",
    "                    size = size,\n",
    "                    center = center,\n",
    "                    source_time = time_profile,\n",
    "                    direction=direction,\n",
    "                    waist_radius=2.5,\n",
    "                    angle_theta=aang,\n",
    "                    angle_phi=rang\n",
    "                )\n",
    "                source_list.append(source)\n",
    "    \n",
    "    return source_list\n",
    "\n",
    "sources = make_sources(src_freqs, theta_range=[0, 1], size=[3,3,0], number_of_angles = 15)\n",
    "\n",
    "\n",
    "nmonitor_freqs = 25 #Number of frequencies to sample at.\n",
    "\n",
    "monitor_freqs = np.linspace(src_freqs[0], src_freqs[1] ,nmonitor_freqs)\n",
    "\n",
    "farfield_monitor = td.FieldProjectionAngleMonitor(center=[0,0,2.25], \n",
    "                                                  size=[td.inf,td.inf,0],\n",
    "                                                  freqs=(monitor_freqs),\n",
    "                                                  name='farfield_monitor',\n",
    "                                                  phi = np.linspace(0, 2*np.pi, 100),\n",
    "                                                  theta=np.linspace(0,1.2, 70))\n",
    "\n",
    "flux_t_monitor = td.FieldMonitor(center=[0,0,-2], \n",
    "                                size=[td.inf,td.inf,0],\n",
    "                                freqs=(monitor_freqs),\n",
    "                                name='trans_monitor'  \n",
    ")\n",
    "\n",
    "flux_r_monitor = td.FieldMonitor(center=[0,0,2.25], \n",
    "                                size=[td.inf,td.inf,0],\n",
    "                                freqs=(monitor_freqs),\n",
    "                                name='refl_monitor')\n",
    "\n",
    "monitor_list = [farfield_monitor, flux_t_monitor, flux_r_monitor]\n",
    "sim = td.Simulation(\n",
    "    size=(10, 10, 6),  # simulation domain size\n",
    "    center = (0,0,0),\n",
    "    grid_spec=td.GridSpec.auto(\n",
    "        min_steps_per_wvl=20\n",
    "    ),  # automatic nonuniform FDTD grid with 25 grids per wavelength in the material\n",
    "    structures=[shell, core],\n",
    "    sources=sources,\n",
    "    monitors=monitor_list,\n",
    "    run_time=3e-13,  # physical simulation time in second\n",
    ") # type: ignore\n",
    "sim.plot_3d()\n",
    "\n",
    "\n",
    "\n"
   ]
  },
  {
   "cell_type": "code",
   "execution_count": 18,
   "id": "0475010e",
   "metadata": {},
   "outputs": [
    {
     "data": {
      "text/html": [
       "<pre style=\"white-space:pre;overflow-x:auto;line-height:normal;font-family:Menlo,'DejaVu Sans Mono',consolas,'Courier New',monospace\"><span style=\"color: #7fbfbf; text-decoration-color: #7fbfbf\">07:31:01 Central Daylight Time </span>Created task                                     \n",
       "<span style=\"color: #7fbfbf; text-decoration-color: #7fbfbf\">                               </span><span style=\"color: #008000; text-decoration-color: #008000\">'6x6x4-CoreShell-ManyGaussianswMonitors'</span> with    \n",
       "<span style=\"color: #7fbfbf; text-decoration-color: #7fbfbf\">                               </span>task_id                                          \n",
       "<span style=\"color: #7fbfbf; text-decoration-color: #7fbfbf\">                               </span><span style=\"color: #008000; text-decoration-color: #008000\">'fdve-6d4016a4-f6f6-4a32-9039-6299c3ce6722'</span> and  \n",
       "<span style=\"color: #7fbfbf; text-decoration-color: #7fbfbf\">                               </span>task_type <span style=\"color: #008000; text-decoration-color: #008000\">'FDTD'</span>.                                \n",
       "</pre>\n"
      ],
      "text/plain": [
       "\u001b[2;36m07:31:01 Central Daylight Time\u001b[0m\u001b[2;36m \u001b[0mCreated task                                     \n",
       "\u001b[2;36m                               \u001b[0m\u001b[32m'6x6x4-CoreShell-ManyGaussianswMonitors'\u001b[0m with    \n",
       "\u001b[2;36m                               \u001b[0mtask_id                                          \n",
       "\u001b[2;36m                               \u001b[0m\u001b[32m'fdve-6d4016a4-f6f6-4a32-9039-6299c3ce6722'\u001b[0m and  \n",
       "\u001b[2;36m                               \u001b[0mtask_type \u001b[32m'FDTD'\u001b[0m.                                \n"
      ]
     },
     "metadata": {},
     "output_type": "display_data"
    },
    {
     "data": {
      "text/html": [
       "<pre style=\"white-space:pre;overflow-x:auto;line-height:normal;font-family:Menlo,'DejaVu Sans Mono',consolas,'Courier New',monospace\"><span style=\"color: #7fbfbf; text-decoration-color: #7fbfbf\">                               </span>View task using web UI at                        \n",
       "<span style=\"color: #7fbfbf; text-decoration-color: #7fbfbf\">                               </span><a href=\"https://tidy3d.simulation.cloud/workbench?taskId=fdve-6d4016a4-f6f6-4a32-9039-6299c3ce6722\" target=\"_blank\"><span style=\"color: #008000; text-decoration-color: #008000\">'https://tidy3d.simulation.cloud/workbench?taskId</span></a>\n",
       "<span style=\"color: #7fbfbf; text-decoration-color: #7fbfbf\">                               </span><a href=\"https://tidy3d.simulation.cloud/workbench?taskId=fdve-6d4016a4-f6f6-4a32-9039-6299c3ce6722\" target=\"_blank\"><span style=\"color: #008000; text-decoration-color: #008000\">=fdve-6d4016a4-f6f6-4a32-9039-6299c3ce6722'</span></a>.     \n",
       "</pre>\n"
      ],
      "text/plain": [
       "\u001b[2;36m                              \u001b[0m\u001b[2;36m \u001b[0mView task using web UI at                        \n",
       "\u001b[2;36m                               \u001b[0m\u001b]8;id=411566;https://tidy3d.simulation.cloud/workbench?taskId=fdve-6d4016a4-f6f6-4a32-9039-6299c3ce6722\u001b\\\u001b[32m'https://tidy3d.simulation.cloud/workbench?\u001b[0m\u001b]8;;\u001b\\\u001b]8;id=383036;https://tidy3d.simulation.cloud/workbench?taskId=fdve-6d4016a4-f6f6-4a32-9039-6299c3ce6722\u001b\\\u001b[32mtaskId\u001b[0m\u001b]8;;\u001b\\\n",
       "\u001b[2;36m                               \u001b[0m\u001b]8;id=411566;https://tidy3d.simulation.cloud/workbench?taskId=fdve-6d4016a4-f6f6-4a32-9039-6299c3ce6722\u001b\\\u001b[32m=\u001b[0m\u001b]8;;\u001b\\\u001b]8;id=342685;https://tidy3d.simulation.cloud/workbench?taskId=fdve-6d4016a4-f6f6-4a32-9039-6299c3ce6722\u001b\\\u001b[32mfdve\u001b[0m\u001b]8;;\u001b\\\u001b]8;id=411566;https://tidy3d.simulation.cloud/workbench?taskId=fdve-6d4016a4-f6f6-4a32-9039-6299c3ce6722\u001b\\\u001b[32m-6d4016a4-f6f6-4a32-9039-6299c3ce6722'\u001b[0m\u001b]8;;\u001b\\.     \n"
      ]
     },
     "metadata": {},
     "output_type": "display_data"
    },
    {
     "data": {
      "text/html": [
       "<pre style=\"white-space:pre;overflow-x:auto;line-height:normal;font-family:Menlo,'DejaVu Sans Mono',consolas,'Courier New',monospace\"><span style=\"color: #7fbfbf; text-decoration-color: #7fbfbf\">                               </span>Task folder: <a href=\"https://tidy3d.simulation.cloud/folders/767b270d-f545-4c6b-9509-691c0e60105a\" target=\"_blank\"><span style=\"color: #008000; text-decoration-color: #008000\">'default'</span></a>.                          \n",
       "</pre>\n"
      ],
      "text/plain": [
       "\u001b[2;36m                              \u001b[0m\u001b[2;36m \u001b[0mTask folder: \u001b]8;id=559934;https://tidy3d.simulation.cloud/folders/767b270d-f545-4c6b-9509-691c0e60105a\u001b\\\u001b[32m'default'\u001b[0m\u001b]8;;\u001b\\.                          \n"
      ]
     },
     "metadata": {},
     "output_type": "display_data"
    },
    {
     "data": {
      "text/html": [
       "<pre style=\"white-space:pre;overflow-x:auto;line-height:normal;font-family:Menlo,'DejaVu Sans Mono',consolas,'Courier New',monospace\">c:\\Users\\Brandon\\miniconda3\\envs\\simulation\\Lib\\site-packages\\rich\\live.py:231: \n",
       "UserWarning: install \"ipywidgets\" for Jupyter support\n",
       "  warnings.warn('install \"ipywidgets\" for Jupyter support')\n",
       "</pre>\n"
      ],
      "text/plain": [
       "c:\\Users\\Brandon\\miniconda3\\envs\\simulation\\Lib\\site-packages\\rich\\live.py:231: \n",
       "UserWarning: install \"ipywidgets\" for Jupyter support\n",
       "  warnings.warn('install \"ipywidgets\" for Jupyter support')\n"
      ]
     },
     "metadata": {},
     "output_type": "display_data"
    },
    {
     "data": {
      "text/html": [
       "<pre style=\"white-space:pre;overflow-x:auto;line-height:normal;font-family:Menlo,'DejaVu Sans Mono',consolas,'Courier New',monospace\"></pre>\n"
      ],
      "text/plain": []
     },
     "metadata": {},
     "output_type": "display_data"
    },
    {
     "data": {
      "text/html": [
       "<pre style=\"white-space:pre;overflow-x:auto;line-height:normal;font-family:Menlo,'DejaVu Sans Mono',consolas,'Courier New',monospace\"><span style=\"color: #7fbfbf; text-decoration-color: #7fbfbf\">07:32:09 Central Daylight Time </span>Maximum FlexCredit cost: <span style=\"color: #008080; text-decoration-color: #008080; font-weight: bold\">0.211</span>. Minimum cost     \n",
       "<span style=\"color: #7fbfbf; text-decoration-color: #7fbfbf\">                               </span>depends on task execution details. Use           \n",
       "<span style=\"color: #7fbfbf; text-decoration-color: #7fbfbf\">                               </span><span style=\"color: #008000; text-decoration-color: #008000\">'web.real_cost(task_id)'</span> to get the billed       \n",
       "<span style=\"color: #7fbfbf; text-decoration-color: #7fbfbf\">                               </span>FlexCredit cost after a simulation run.          \n",
       "</pre>\n"
      ],
      "text/plain": [
       "\u001b[2;36m07:32:09 Central Daylight Time\u001b[0m\u001b[2;36m \u001b[0mMaximum FlexCredit cost: \u001b[1;36m0.211\u001b[0m. Minimum cost     \n",
       "\u001b[2;36m                               \u001b[0mdepends on task execution details. Use           \n",
       "\u001b[2;36m                               \u001b[0m\u001b[32m'web.real_cost\u001b[0m\u001b[32m(\u001b[0m\u001b[32mtask_id\u001b[0m\u001b[32m)\u001b[0m\u001b[32m'\u001b[0m to get the billed       \n",
       "\u001b[2;36m                               \u001b[0mFlexCredit cost after a simulation run.          \n"
      ]
     },
     "metadata": {},
     "output_type": "display_data"
    }
   ],
   "source": [
    "from tidy3d import web\n",
    "\n",
    "task_id = web.upload(sim, task_name=f\"{a1_reps}x{a2_reps}x{a3_reps}-CoreShell-ManyGaussianswMonitors\")"
   ]
  }
 ],
 "metadata": {
  "kernelspec": {
   "display_name": "simulation",
   "language": "python",
   "name": "python3"
  },
  "language_info": {
   "codemirror_mode": {
    "name": "ipython",
    "version": 3
   },
   "file_extension": ".py",
   "mimetype": "text/x-python",
   "name": "python",
   "nbconvert_exporter": "python",
   "pygments_lexer": "ipython3",
   "version": "3.13.5"
  }
 },
 "nbformat": 4,
 "nbformat_minor": 5
}
