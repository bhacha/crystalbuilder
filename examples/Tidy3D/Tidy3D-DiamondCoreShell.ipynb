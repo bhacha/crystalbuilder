{
 "cells": [
  {
   "cell_type": "code",
   "execution_count": 4,
   "id": "ed127808",
   "metadata": {},
   "outputs": [
    {
     "name": "stdout",
     "output_type": "stream",
     "text": [
      "Error: Lumpy and/or the Lumerical API were not found.\n"
     ]
    }
   ],
   "source": [
    "from crystalbuilder import *\n",
    "import crystalbuilder.geometry as geo\n",
    "import matplotlib.pyplot as plt\n",
    "import tidy3d as td\n",
    "import crystalbuilder.convert as cv\n",
    "import numpy as np\n",
    "import vedo"
   ]
  },
  {
   "cell_type": "markdown",
   "id": "dbfea752",
   "metadata": {},
   "source": [
    "Here we will create a simulation of the core-shell diamond crystal. This is a rod-connected diamond with a cubic conventional cell. We'll set it up in the usual manner, but we can use an actual distance in nanometers for our lattice constant. `a_mag` is this constant in microns (Tidy3D default units)"
   ]
  },
  {
   "cell_type": "code",
   "execution_count": 5,
   "id": "1ee342fc",
   "metadata": {},
   "outputs": [],
   "source": [
    "lattice_constant = 700 #nm\n",
    "\n",
    "a1 = [1, 0, 0]\n",
    "a2 = [0, 1 ,0]\n",
    "a3 = [0, 0, 1]\n",
    "\n",
    "a_mag = lattice_constant/1000 #convert to microns\n",
    "geo_lattice = lattice.Lattice(a1, a2, a3, magnitude = [a_mag, a_mag, a_mag])"
   ]
  },
  {
   "cell_type": "markdown",
   "id": "0cc2f9c5",
   "metadata": {},
   "source": [
    "We'll load our points from Bilbao (or a local copy if already done before). We don't scale any of this using the lattice constant.  "
   ]
  },
  {
   "cell_type": "code",
   "execution_count": 6,
   "id": "d1b7488c",
   "metadata": {},
   "outputs": [],
   "source": [
    "diamond = bilbao.SpaceGroup(227)\n",
    "pt = 1/8\n",
    "points = diamond.calculate_points(point_list=[(pt, pt, pt)]) #This is the 8a wyckoff position"
   ]
  },
  {
   "cell_type": "markdown",
   "id": "beb4b07b",
   "metadata": {},
   "source": [
    "The IUCr tabulated general positions are in units of the lattice constant. After we connect the nearest neighbors, we convert to our micron units and scale the structure. This is done by passing `a_mag` to `NearestNeighbors()`. "
   ]
  },
  {
   "cell_type": "code",
   "execution_count": 7,
   "id": "8f0ffece",
   "metadata": {},
   "outputs": [],
   "source": [
    "radius = .05 #microns\n",
    "\n",
    "crystal_core = geo.NearestNeighbors(points, radius=radius, neighborhood_range=.45, a_mag=a_mag)"
   ]
  },
  {
   "cell_type": "markdown",
   "id": "d987d3ac",
   "metadata": {},
   "source": [
    "For our core-shell structure, we will just create a slightly larger (by `shell_radius`) set of connected rods. "
   ]
  },
  {
   "cell_type": "code",
   "execution_count": 8,
   "id": "85e58348",
   "metadata": {},
   "outputs": [],
   "source": [
    "shell_radius = .02 #microns\n",
    "\n",
    "crystal_shell = geo.NearestNeighbors(points, radius=(radius+shell_radius), neighborhood_range=.45, a_mag=a_mag)"
   ]
  },
  {
   "cell_type": "markdown",
   "id": "d6781fbd",
   "metadata": {},
   "source": [
    "The geometry is just a combination of these two lattices, **making sure to include the core *after* the shell**. In Tidy3D, items later in the list will override earlier ones."
   ]
  },
  {
   "cell_type": "code",
   "execution_count": 9,
   "id": "2a48427a",
   "metadata": {},
   "outputs": [],
   "source": [
    "geometry = [crystal_shell, crystal_core]"
   ]
  },
  {
   "cell_type": "code",
   "execution_count": 10,
   "id": "e97b4ca6",
   "metadata": {},
   "outputs": [
    {
     "name": "stdout",
     "output_type": "stream",
     "text": [
      "2304\n",
      "2304\n"
     ]
    }
   ],
   "source": [
    "a1_reps = 6\n",
    "a2_reps = 6\n",
    "a3_reps = 4\n",
    "crystal = geo_lattice.tile_geogeometry(geometry, a1_reps, a2_reps, a3_reps )\n",
    "print(len(crystal[0]))\n",
    "print(len(crystal[1]))"
   ]
  },
  {
   "cell_type": "code",
   "execution_count": 11,
   "id": "3c00fa77",
   "metadata": {},
   "outputs": [],
   "source": [
    "scene = viewer.visualize(crystal[1], c='white', res=5)\n",
    "viewer.add_to_visualizer(crystal[0], scene, c='red', alpha=.5, res=5)\n",
    "\n",
    "\n",
    "# scene.show().close()"
   ]
  },
  {
   "cell_type": "code",
   "execution_count": 12,
   "id": "9ac28ac2",
   "metadata": {},
   "outputs": [],
   "source": [
    "shell = cv.geo_to_tidy3d(crystal[0], 3.4, name=\"Shell\", material_name=\"HPCVD-Si\")\n",
    "core = cv.geo_to_tidy3d(crystal[1], 1.75, name=\"Core\", material_name = \"FEBID-Pt\")"
   ]
  },
  {
   "cell_type": "code",
   "execution_count": 13,
   "id": "98af1a58",
   "metadata": {},
   "outputs": [
    {
     "name": "stdout",
     "output_type": "stream",
     "text": [
      "[1.87370286e+14 4.28274940e+14]\n"
     ]
    }
   ],
   "source": [
    "# create source\n",
    "lda0 = 1.25  # wavelength of interest (length scales are micrometers in Tidy3D)\n",
    "src_wavelengths = [.7, 1.6]\n",
    "\n",
    "src_freqs = np.sort(td.C_0 / np.asarray(src_wavelengths))\n",
    "freq0 = td.C_0 / np.mean(src_wavelengths)  # frequency of interest\n",
    "print(src_freqs)\n"
   ]
  },
  {
   "cell_type": "code",
   "execution_count": null,
   "id": "0427a8fb",
   "metadata": {},
   "outputs": [
    {
     "ename": "AttributeError",
     "evalue": "'numpy.ndarray' object has no attribute 'json'",
     "output_type": "error",
     "traceback": [
      "\u001b[31m---------------------------------------------------------------------------\u001b[39m",
      "\u001b[31mAttributeError\u001b[39m                            Traceback (most recent call last)",
      "\u001b[36mCell\u001b[39m\u001b[36m \u001b[39m\u001b[32mIn[17]\u001b[39m\u001b[32m, line 1\u001b[39m\n\u001b[32m----> \u001b[39m\u001b[32m1\u001b[39m \u001b[43msrc_freqs\u001b[49m\u001b[43m.\u001b[49m\u001b[43mjson\u001b[49m()\n",
      "\u001b[31mAttributeError\u001b[39m: 'numpy.ndarray' object has no attribute 'json'"
     ]
    }
   ],
   "source": []
  },
  {
   "cell_type": "code",
   "execution_count": 20,
   "id": "ad73fed9",
   "metadata": {},
   "outputs": [
    {
     "data": {
      "text/html": [
       "\n",
       "    <div class=\"simulation-viewer\" data-width=\"800\" data-height=\"800\" data-simulation=\"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\" ></div>\n",
       "    <script>\n",
       "        \n",
       "        /**\n",
       "        * Simulation Viewer Injector\n",
       "        *\n",
       "        * Monitors the document for elements being added in the form:\n",
       "        *\n",
       "        *    <div class=\"simulation-viewer\" data-width=\"800\" data-height=\"800\" data-simulation=\"{...}\" />\n",
       "        *\n",
       "        * This script will then inject an iframe to the viewer application, and pass it the simulation data\n",
       "        * via the postMessage API on request. The script may be safely included multiple times, with only the\n",
       "        * configuration of the first started script (e.g. viewer URL) applying.\n",
       "        *\n",
       "        */\n",
       "        (function() {\n",
       "            const TARGET_CLASS = \"simulation-viewer\";\n",
       "            const ACTIVE_CLASS = \"simulation-viewer-active\";\n",
       "            const VIEWER_URL = \"https://tidy3d.simulation.cloud/simulation-viewer\";\n",
       "\n",
       "            class SimulationViewerInjector {\n",
       "                constructor() {\n",
       "                    for (var node of document.getElementsByClassName(TARGET_CLASS)) {\n",
       "                        this.injectViewer(node);\n",
       "                    }\n",
       "\n",
       "                    // Monitor for newly added nodes to the DOM\n",
       "                    this.observer = new MutationObserver(this.onMutations.bind(this));\n",
       "                    this.observer.observe(document.body, {childList: true, subtree: true});\n",
       "                }\n",
       "\n",
       "                onMutations(mutations) {\n",
       "                    for (var mutation of mutations) {\n",
       "                        if (mutation.type === 'childList') {\n",
       "                            /**\n",
       "                            * Have found that adding the element does not reliably trigger the mutation observer.\n",
       "                            * It may be the case that setting content with innerHTML does not trigger.\n",
       "                            *\n",
       "                            * It seems to be sufficient to re-scan the document for un-activated viewers\n",
       "                            * whenever an event occurs, as Jupyter triggers multiple events on cell evaluation.\n",
       "                            */\n",
       "                            var viewers = document.getElementsByClassName(TARGET_CLASS);\n",
       "                            for (var node of viewers) {\n",
       "                                this.injectViewer(node);\n",
       "                            }\n",
       "                        }\n",
       "                    }\n",
       "                }\n",
       "\n",
       "                injectViewer(node) {\n",
       "                    // (re-)check that this is a valid simulation container and has not already been injected\n",
       "                    if (node.classList.contains(TARGET_CLASS) && !node.classList.contains(ACTIVE_CLASS)) {\n",
       "                        // Mark node as injected, to prevent re-runs\n",
       "                        node.classList.add(ACTIVE_CLASS);\n",
       "\n",
       "                        var uuid;\n",
       "                        if (window.crypto && window.crypto.randomUUID) {\n",
       "                            uuid = window.crypto.randomUUID();\n",
       "                        } else {\n",
       "                            uuid = \"\" + Math.random();\n",
       "                        }\n",
       "\n",
       "                        var frame = document.createElement(\"iframe\");\n",
       "                        frame.width = node.dataset.width || 800;\n",
       "                        frame.height = node.dataset.height || 800;\n",
       "                        frame.style.cssText = `width:${frame.width}px;height:${frame.height}px;max-width:none;border:0;display:block`\n",
       "                        frame.src = VIEWER_URL + \"?uuid=\" + uuid;\n",
       "\n",
       "                        var postMessageToViewer;\n",
       "                        postMessageToViewer = event => {\n",
       "                            if(event.data.type === 'viewer' && event.data.uuid===uuid){\n",
       "                                frame.contentWindow.postMessage({ type: 'jupyter', uuid, value: node.dataset.simulation, fileType: 'hdf5'}, '*');\n",
       "\n",
       "                                // Run once only\n",
       "                                window.removeEventListener('message', postMessageToViewer);\n",
       "                            }\n",
       "                        };\n",
       "                        window.addEventListener(\n",
       "                            'message',\n",
       "                            postMessageToViewer,\n",
       "                            false\n",
       "                        );\n",
       "\n",
       "                        node.appendChild(frame);\n",
       "                    }\n",
       "                }\n",
       "            }\n",
       "\n",
       "            if (!window.simulationViewerInjector) {\n",
       "                window.simulationViewerInjector = new SimulationViewerInjector();\n",
       "            }\n",
       "        })();\n",
       "    \n",
       "    </script>\n",
       "    "
      ],
      "text/plain": [
       "<IPython.core.display.HTML object>"
      ]
     },
     "metadata": {},
     "output_type": "display_data"
    }
   ],
   "source": [
    "\n",
    "def make_sources(frequencies, size, theta_range=[0, 1.2], phi_range = [0, 2*np.pi], number_of_angles = 5, **kwargs):\n",
    "    time_profile = td.GaussianPulse.from_frequency_range(fmin=frequencies[0], fmax=frequencies[1])\n",
    "    center = kwargs.get(\"center\", (0,0,2))\n",
    "    direction = kwargs.get(\"direction\", '-')\n",
    "    phi = np.arange(phi_range[0], phi_range[1], .275)\n",
    "    theta = np.linspace(theta_range[0], theta_range[1], number_of_angles)\n",
    "    source_list = []\n",
    "    for aang in theta:\n",
    "        if aang == 0:\n",
    "            scaled_time_profile = td.GaussianPulse.from_frequency_range(fmin=frequencies[0], fmax=frequencies[1])\n",
    "            source = td.GaussianBeam(\n",
    "                size = size,\n",
    "                center = center,\n",
    "                source_time = scaled_time_profile,\n",
    "                direction=direction,\n",
    "                waist_radius=2.5,\n",
    "                angle_theta=aang,\n",
    "                angle_phi=0,\n",
    "                name=\"Normal Incidence\"\n",
    "            )\n",
    "            source_list.append(source)\n",
    "            pass\n",
    "        else:\n",
    "            for rang in phi:\n",
    "                source = td.GaussianBeam(\n",
    "                    size = size,\n",
    "                    center = center,\n",
    "                    source_time = time_profile,\n",
    "                    direction=direction,\n",
    "                    waist_radius=2.5,\n",
    "                    angle_theta=aang,\n",
    "                    angle_phi=rang\n",
    "                )\n",
    "                source_list.append(source)\n",
    "    \n",
    "    return source_list\n",
    "\n",
    "sources = make_sources(src_freqs, theta_range=[0, 1], size=[4,4,0], number_of_angles = 15, center=(-.1, 0, 2))\n",
    "\n",
    "\n",
    "nmonitor_freqs = 25 #Number of frequencies to sample at.\n",
    "\n",
    "monitor_freqs = np.linspace(src_freqs[0], src_freqs[1] ,nmonitor_freqs)\n",
    "\n",
    "farfield_monitor = td.FieldProjectionAngleMonitor(center=[0,0,2.25], \n",
    "                                                  size=[td.inf,td.inf,0],\n",
    "                                                  freqs=(monitor_freqs),\n",
    "                                                  name='farfield_monitor',\n",
    "                                                  phi = np.linspace(0, 2*np.pi, 100),\n",
    "                                                  theta=np.linspace(0,1.2, 70))\n",
    "\n",
    "flux_t_monitor = td.FieldMonitor(center=[0,0,-2], \n",
    "                                size=[td.inf,td.inf,0],\n",
    "                                freqs=(monitor_freqs),\n",
    "                                name='trans_monitor'  \n",
    ")\n",
    "\n",
    "flux_r_monitor = td.FieldMonitor(center=[0,0,2.25], \n",
    "                                size=[td.inf,td.inf,0],\n",
    "                                freqs=(monitor_freqs),\n",
    "                                name='refl_monitor')\n",
    "\n",
    "YZ_monitor = td.FieldMonitor(center=[0,0,0], \n",
    "                                size=[0,3,3],\n",
    "                                freqs=(monitor_freqs),\n",
    "                                name='YZ_monitor')\n",
    "\n",
    "\n",
    "\n",
    "\n",
    "monitor_list = [farfield_monitor, flux_t_monitor, flux_r_monitor, YZ_monitor]\n",
    "\n",
    "simulation_attributes = {\n",
    "    \"sources\" :{\n",
    "        \"frequency_min\": src_freqs[0],\n",
    "        \"frequency_max\": src_freqs[1],\n",
    "        \"frequency_center\": freq0,\n",
    "        \"number\": len(sources),\n",
    "    }\n",
    "    \n",
    "}\n",
    "\n",
    "\n",
    "\n",
    "sim = td.Simulation(\n",
    "    attrs=simulation_attributes,\n",
    "    size=(10, 10, 6),  # simulation domain size\n",
    "    center = (-0.1,0,0),\n",
    "    grid_spec=td.GridSpec.auto(\n",
    "        min_steps_per_wvl=20\n",
    "    ),  # automatic nonuniform FDTD grid with 25 grids per wavelength in the material\n",
    "    structures=[shell, core],\n",
    "    sources=sources,\n",
    "    monitors=monitor_list,\n",
    "    run_time=3e-13,  # physical simulation time in second\n",
    ") # type: ignore\n",
    "sim.plot_3d()\n",
    "\n",
    "\n",
    "\n"
   ]
  },
  {
   "cell_type": "code",
   "execution_count": null,
   "id": "3a34b26e",
   "metadata": {},
   "outputs": [],
   "source": []
  },
  {
   "cell_type": "code",
   "execution_count": 21,
   "id": "0475010e",
   "metadata": {},
   "outputs": [
    {
     "data": {
      "text/html": [
       "<pre style=\"white-space:pre;overflow-x:auto;line-height:normal;font-family:Menlo,'DejaVu Sans Mono',consolas,'Courier New',monospace\"><span style=\"color: #7fbfbf; text-decoration-color: #7fbfbf\">08:45:57 Central Daylight Time </span>Created task <span style=\"color: #008000; text-decoration-color: #008000\">'6x6x4-CoreShell-LargerSource'</span> with \n",
       "<span style=\"color: #7fbfbf; text-decoration-color: #7fbfbf\">                               </span>task_id                                          \n",
       "<span style=\"color: #7fbfbf; text-decoration-color: #7fbfbf\">                               </span><span style=\"color: #008000; text-decoration-color: #008000\">'fdve-acf8f5b8-dff6-44a4-9483-66e1b88a1530'</span> and  \n",
       "<span style=\"color: #7fbfbf; text-decoration-color: #7fbfbf\">                               </span>task_type <span style=\"color: #008000; text-decoration-color: #008000\">'FDTD'</span>.                                \n",
       "</pre>\n"
      ],
      "text/plain": [
       "\u001b[2;36m08:45:57 Central Daylight Time\u001b[0m\u001b[2;36m \u001b[0mCreated task \u001b[32m'6x6x4-CoreShell-LargerSource'\u001b[0m with \n",
       "\u001b[2;36m                               \u001b[0mtask_id                                          \n",
       "\u001b[2;36m                               \u001b[0m\u001b[32m'fdve-acf8f5b8-dff6-44a4-9483-66e1b88a1530'\u001b[0m and  \n",
       "\u001b[2;36m                               \u001b[0mtask_type \u001b[32m'FDTD'\u001b[0m.                                \n"
      ]
     },
     "metadata": {},
     "output_type": "display_data"
    },
    {
     "data": {
      "text/html": [
       "<pre style=\"white-space:pre;overflow-x:auto;line-height:normal;font-family:Menlo,'DejaVu Sans Mono',consolas,'Courier New',monospace\"><span style=\"color: #7fbfbf; text-decoration-color: #7fbfbf\">                               </span>View task using web UI at                        \n",
       "<span style=\"color: #7fbfbf; text-decoration-color: #7fbfbf\">                               </span><a href=\"https://tidy3d.simulation.cloud/workbench?taskId=fdve-acf8f5b8-dff6-44a4-9483-66e1b88a1530\" target=\"_blank\"><span style=\"color: #008000; text-decoration-color: #008000\">'https://tidy3d.simulation.cloud/workbench?taskId</span></a>\n",
       "<span style=\"color: #7fbfbf; text-decoration-color: #7fbfbf\">                               </span><a href=\"https://tidy3d.simulation.cloud/workbench?taskId=fdve-acf8f5b8-dff6-44a4-9483-66e1b88a1530\" target=\"_blank\"><span style=\"color: #008000; text-decoration-color: #008000\">=fdve-acf8f5b8-dff6-44a4-9483-66e1b88a1530'</span></a>.     \n",
       "</pre>\n"
      ],
      "text/plain": [
       "\u001b[2;36m                              \u001b[0m\u001b[2;36m \u001b[0mView task using web UI at                        \n",
       "\u001b[2;36m                               \u001b[0m\u001b]8;id=538493;https://tidy3d.simulation.cloud/workbench?taskId=fdve-acf8f5b8-dff6-44a4-9483-66e1b88a1530\u001b\\\u001b[32m'https://tidy3d.simulation.cloud/workbench?\u001b[0m\u001b]8;;\u001b\\\u001b]8;id=739930;https://tidy3d.simulation.cloud/workbench?taskId=fdve-acf8f5b8-dff6-44a4-9483-66e1b88a1530\u001b\\\u001b[32mtaskId\u001b[0m\u001b]8;;\u001b\\\n",
       "\u001b[2;36m                               \u001b[0m\u001b]8;id=538493;https://tidy3d.simulation.cloud/workbench?taskId=fdve-acf8f5b8-dff6-44a4-9483-66e1b88a1530\u001b\\\u001b[32m=\u001b[0m\u001b]8;;\u001b\\\u001b]8;id=747175;https://tidy3d.simulation.cloud/workbench?taskId=fdve-acf8f5b8-dff6-44a4-9483-66e1b88a1530\u001b\\\u001b[32mfdve\u001b[0m\u001b]8;;\u001b\\\u001b]8;id=538493;https://tidy3d.simulation.cloud/workbench?taskId=fdve-acf8f5b8-dff6-44a4-9483-66e1b88a1530\u001b\\\u001b[32m-acf8f5b8-dff6-44a4-9483-66e1b88a1530'\u001b[0m\u001b]8;;\u001b\\.     \n"
      ]
     },
     "metadata": {},
     "output_type": "display_data"
    },
    {
     "data": {
      "text/html": [
       "<pre style=\"white-space:pre;overflow-x:auto;line-height:normal;font-family:Menlo,'DejaVu Sans Mono',consolas,'Courier New',monospace\"><span style=\"color: #7fbfbf; text-decoration-color: #7fbfbf\">                               </span>Task folder: <a href=\"https://tidy3d.simulation.cloud/folders/folder-066bea7d-969e-4af3-be54-8e64815456f0\" target=\"_blank\"><span style=\"color: #008000; text-decoration-color: #008000\">'Multi-Gaussian Reflection'</span></a>.        \n",
       "</pre>\n"
      ],
      "text/plain": [
       "\u001b[2;36m                              \u001b[0m\u001b[2;36m \u001b[0mTask folder: \u001b]8;id=589116;https://tidy3d.simulation.cloud/folders/folder-066bea7d-969e-4af3-be54-8e64815456f0\u001b\\\u001b[32m'Multi-Gaussian Reflection'\u001b[0m\u001b]8;;\u001b\\.        \n"
      ]
     },
     "metadata": {},
     "output_type": "display_data"
    },
    {
     "data": {
      "application/vnd.jupyter.widget-view+json": {
       "model_id": "5f103804f3a8424fad95de7db07d2bfd",
       "version_major": 2,
       "version_minor": 0
      },
      "text/plain": [
       "Output()"
      ]
     },
     "metadata": {},
     "output_type": "display_data"
    },
    {
     "data": {
      "text/html": [
       "<pre style=\"white-space:pre;overflow-x:auto;line-height:normal;font-family:Menlo,'DejaVu Sans Mono',consolas,'Courier New',monospace\"></pre>\n"
      ],
      "text/plain": []
     },
     "metadata": {},
     "output_type": "display_data"
    },
    {
     "data": {
      "text/html": [
       "<pre style=\"white-space:pre;overflow-x:auto;line-height:normal;font-family:Menlo,'DejaVu Sans Mono',consolas,'Courier New',monospace\"><span style=\"color: #7fbfbf; text-decoration-color: #7fbfbf\">08:47:07 Central Daylight Time </span>Maximum FlexCredit cost: <span style=\"color: #008080; text-decoration-color: #008080; font-weight: bold\">0.200</span>. Minimum cost     \n",
       "<span style=\"color: #7fbfbf; text-decoration-color: #7fbfbf\">                               </span>depends on task execution details. Use           \n",
       "<span style=\"color: #7fbfbf; text-decoration-color: #7fbfbf\">                               </span><span style=\"color: #008000; text-decoration-color: #008000\">'web.real_cost(task_id)'</span> to get the billed       \n",
       "<span style=\"color: #7fbfbf; text-decoration-color: #7fbfbf\">                               </span>FlexCredit cost after a simulation run.          \n",
       "</pre>\n"
      ],
      "text/plain": [
       "\u001b[2;36m08:47:07 Central Daylight Time\u001b[0m\u001b[2;36m \u001b[0mMaximum FlexCredit cost: \u001b[1;36m0.200\u001b[0m. Minimum cost     \n",
       "\u001b[2;36m                               \u001b[0mdepends on task execution details. Use           \n",
       "\u001b[2;36m                               \u001b[0m\u001b[32m'web.real_cost\u001b[0m\u001b[32m(\u001b[0m\u001b[32mtask_id\u001b[0m\u001b[32m)\u001b[0m\u001b[32m'\u001b[0m to get the billed       \n",
       "\u001b[2;36m                               \u001b[0mFlexCredit cost after a simulation run.          \n"
      ]
     },
     "metadata": {},
     "output_type": "display_data"
    }
   ],
   "source": [
    "from tidy3d import web\n",
    "\n",
    "task_id = web.upload(sim, task_name=f\"{a1_reps}x{a2_reps}x{a3_reps}-CoreShell-LargerSource\", folder_name=\"Multi-Gaussian Reflection\", verbose=True)"
   ]
  }
 ],
 "metadata": {
  "kernelspec": {
   "display_name": "simulation",
   "language": "python",
   "name": "python3"
  },
  "language_info": {
   "codemirror_mode": {
    "name": "ipython",
    "version": 3
   },
   "file_extension": ".py",
   "mimetype": "text/x-python",
   "name": "python",
   "nbconvert_exporter": "python",
   "pygments_lexer": "ipython3",
   "version": "3.13.5"
  }
 },
 "nbformat": 4,
 "nbformat_minor": 5
}
