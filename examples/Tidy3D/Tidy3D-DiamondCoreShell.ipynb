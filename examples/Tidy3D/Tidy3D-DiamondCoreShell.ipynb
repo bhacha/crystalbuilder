{
 "cells": [
  {
   "cell_type": "code",
   "execution_count": null,
   "id": "ed127808",
   "metadata": {},
   "outputs": [],
   "source": [
    "from crystalbuilder import *\n",
    "import crystalbuilder.geometry as geo\n",
    "import matplotlib.pyplot as plt\n",
    "import tidy3d as td\n",
    "import crystalbuilder.convert as cv\n",
    "import numpy as np\n",
    "import vedo"
   ]
  },
  {
   "cell_type": "markdown",
   "id": "dbfea752",
   "metadata": {},
   "source": [
    "Here we will create a simulation of the core-shell diamond crystal. This is a rod-connected diamond with a cubic conventional cell. We'll set it up in the usual manner, but we can use an actual distance in nanometers for our lattice constant. `a_mag` is this constant in microns (Tidy3D default units)"
   ]
  },
  {
   "cell_type": "code",
   "execution_count": null,
   "id": "1ee342fc",
   "metadata": {},
   "outputs": [],
   "source": [
    "lattice_constant = 500 #nm\n",
    "\n",
    "a1 = [1, 0, 0]\n",
    "a2 = [0, 1 ,0]\n",
    "a3 = [0, 0, 1]\n",
    "\n",
    "a_mag = lattice_constant/1000 #convert to microns\n",
    "geo_lattice = lattice.Lattice(a1, a2, a3, magnitude = [a_mag, a_mag, a_mag])"
   ]
  },
  {
   "cell_type": "markdown",
   "id": "0cc2f9c5",
   "metadata": {},
   "source": [
    "We'll load our points from Bilbao (or a local copy if already done before). We don't scale any of this using the lattice constant.  "
   ]
  },
  {
   "cell_type": "code",
   "execution_count": null,
   "id": "d1b7488c",
   "metadata": {},
   "outputs": [],
   "source": [
    "diamond = bilbao.SpaceGroup(227)\n",
    "pt = 1/8\n",
    "points = diamond.calculate_points(point_list=[(pt, pt, pt)]) #This is the 8a wyckoff position"
   ]
  },
  {
   "cell_type": "markdown",
   "id": "beb4b07b",
   "metadata": {},
   "source": [
    "The IUCr tabulated general positions are in units of the lattice constant. After we connect the nearest neighbors, we convert to our micron units and scale the structure. This is done by passing `a_mag` to `NearestNeighbors()`. "
   ]
  },
  {
   "cell_type": "code",
   "execution_count": null,
   "id": "8f0ffece",
   "metadata": {},
   "outputs": [],
   "source": [
    "radius = .04 #microns\n",
    "\n",
    "crystal_core = geo.NearestNeighbors(points, radius=radius, neighborhood_range=.45, a_mag=a_mag)"
   ]
  },
  {
   "cell_type": "markdown",
   "id": "d987d3ac",
   "metadata": {},
   "source": [
    "For our core-shell structure, we will just create a slightly larger (by `shell_radius`) set of connected rods. "
   ]
  },
  {
   "cell_type": "code",
   "execution_count": null,
   "id": "85e58348",
   "metadata": {},
   "outputs": [],
   "source": [
    "shell_radius = .02 #microns\n",
    "\n",
    "crystal_shell = geo.NearestNeighbors(points, radius=(radius+shell_radius), neighborhood_range=.45, a_mag=a_mag)"
   ]
  },
  {
   "cell_type": "markdown",
   "id": "d6781fbd",
   "metadata": {},
   "source": [
    "The geometry is just a combination of these two lattices, **making sure to include the core *after* the shell**. In Tidy3D, items later in the list will override earlier ones."
   ]
  },
  {
   "cell_type": "code",
   "execution_count": null,
   "id": "2a48427a",
   "metadata": {},
   "outputs": [],
   "source": [
    "geometry = [crystal_shell, crystal_core]"
   ]
  },
  {
   "cell_type": "code",
   "execution_count": null,
   "id": "e97b4ca6",
   "metadata": {},
   "outputs": [],
   "source": []
  }
 ],
 "metadata": {
  "language_info": {
   "name": "python"
  }
 },
 "nbformat": 4,
 "nbformat_minor": 5
}
