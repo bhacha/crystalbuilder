{
 "cells": [
  {
   "cell_type": "code",
   "execution_count": 10,
   "id": "f089e2ae",
   "metadata": {},
   "outputs": [],
   "source": [
    "from crystalbuilder import *\n",
    "import crystalbuilder.geometry as geo\n",
    "import matplotlib.pyplot as plt\n",
    "import tidy3d as td\n",
    "import crystalbuilder.convert as cv\n",
    "import numpy as np\n",
    "import vedo"
   ]
  },
  {
   "cell_type": "code",
   "execution_count": 2,
   "id": "2c1e3a26",
   "metadata": {},
   "outputs": [],
   "source": [
    "a1 = [1, 0, 0]\n",
    "a2 = [0, 1 ,0]\n",
    "a3 = [0, 0, 1]\n",
    "\n",
    "a_mag = .5\n",
    "geo_lattice = lattice.Lattice(a1, a2, a3, magnitude = [a_mag, a_mag, a_mag])"
   ]
  },
  {
   "cell_type": "code",
   "execution_count": 4,
   "id": "433768cb",
   "metadata": {},
   "outputs": [],
   "source": [
    "diamond = bilbao.SpaceGroup(227)\n",
    "pt = 1/8\n",
    "points = diamond.calculate_points(point_list=[(pt, pt, pt)]) #This is the 8a wyckoff position"
   ]
  },
  {
   "cell_type": "code",
   "execution_count": 5,
   "id": "62ac3616",
   "metadata": {},
   "outputs": [],
   "source": [
    "radius = .05\n",
    "connection_sites = geo.NearestNeighbors(points, radius=radius, neighborhood_range=.45, a_mag = a_mag)\n",
    "geometry=connection_sites"
   ]
  },
  {
   "cell_type": "code",
   "execution_count": 6,
   "id": "ccaa1b0a",
   "metadata": {},
   "outputs": [],
   "source": [
    "a1_reps = 8\n",
    "a2_reps = 8\n",
    "a3_reps = 4\n",
    "crystal = geo_lattice.tile_geogeometry(geometry, a1_reps, a2_reps, a3_reps )\n",
    "# crystal = geometry"
   ]
  },
  {
   "cell_type": "code",
   "execution_count": 7,
   "id": "49846f21",
   "metadata": {},
   "outputs": [
    {
     "data": {
      "text/plain": [
       "<vedo.plotter.Plotter at 0x1da14ccdd90>"
      ]
     },
     "execution_count": 7,
     "metadata": {},
     "output_type": "execute_result"
    }
   ],
   "source": [
    "scene = viewer.visualize(crystal)\n",
    "scene.show().close()\n",
    "\n"
   ]
  },
  {
   "cell_type": "code",
   "execution_count": 8,
   "id": "66ab15f7",
   "metadata": {},
   "outputs": [],
   "source": [
    "newgeo = cv.geo_to_tidy3d(crystal, 2.5)"
   ]
  },
  {
   "cell_type": "code",
   "execution_count": 9,
   "id": "3c214a5c",
   "metadata": {},
   "outputs": [
    {
     "data": {
      "text/html": [
       "\n",
       "    <div class=\"simulation-viewer\" data-width=\"800\" data-height=\"800\" data-simulation=\"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\" ></div>\n",
       "    <script>\n",
       "        \n",
       "        /**\n",
       "        * Simulation Viewer Injector\n",
       "        *\n",
       "        * Monitors the document for elements being added in the form:\n",
       "        *\n",
       "        *    <div class=\"simulation-viewer\" data-width=\"800\" data-height=\"800\" data-simulation=\"{...}\" />\n",
       "        *\n",
       "        * This script will then inject an iframe to the viewer application, and pass it the simulation data\n",
       "        * via the postMessage API on request. The script may be safely included multiple times, with only the\n",
       "        * configuration of the first started script (e.g. viewer URL) applying.\n",
       "        *\n",
       "        */\n",
       "        (function() {\n",
       "            const TARGET_CLASS = \"simulation-viewer\";\n",
       "            const ACTIVE_CLASS = \"simulation-viewer-active\";\n",
       "            const VIEWER_URL = \"https://tidy3d.simulation.cloud/simulation-viewer\";\n",
       "\n",
       "            class SimulationViewerInjector {\n",
       "                constructor() {\n",
       "                    for (var node of document.getElementsByClassName(TARGET_CLASS)) {\n",
       "                        this.injectViewer(node);\n",
       "                    }\n",
       "\n",
       "                    // Monitor for newly added nodes to the DOM\n",
       "                    this.observer = new MutationObserver(this.onMutations.bind(this));\n",
       "                    this.observer.observe(document.body, {childList: true, subtree: true});\n",
       "                }\n",
       "\n",
       "                onMutations(mutations) {\n",
       "                    for (var mutation of mutations) {\n",
       "                        if (mutation.type === 'childList') {\n",
       "                            /**\n",
       "                            * Have found that adding the element does not reliably trigger the mutation observer.\n",
       "                            * It may be the case that setting content with innerHTML does not trigger.\n",
       "                            *\n",
       "                            * It seems to be sufficient to re-scan the document for un-activated viewers\n",
       "                            * whenever an event occurs, as Jupyter triggers multiple events on cell evaluation.\n",
       "                            */\n",
       "                            var viewers = document.getElementsByClassName(TARGET_CLASS);\n",
       "                            for (var node of viewers) {\n",
       "                                this.injectViewer(node);\n",
       "                            }\n",
       "                        }\n",
       "                    }\n",
       "                }\n",
       "\n",
       "                injectViewer(node) {\n",
       "                    // (re-)check that this is a valid simulation container and has not already been injected\n",
       "                    if (node.classList.contains(TARGET_CLASS) && !node.classList.contains(ACTIVE_CLASS)) {\n",
       "                        // Mark node as injected, to prevent re-runs\n",
       "                        node.classList.add(ACTIVE_CLASS);\n",
       "\n",
       "                        var uuid;\n",
       "                        if (window.crypto && window.crypto.randomUUID) {\n",
       "                            uuid = window.crypto.randomUUID();\n",
       "                        } else {\n",
       "                            uuid = \"\" + Math.random();\n",
       "                        }\n",
       "\n",
       "                        var frame = document.createElement(\"iframe\");\n",
       "                        frame.width = node.dataset.width || 800;\n",
       "                        frame.height = node.dataset.height || 800;\n",
       "                        frame.style.cssText = `width:${frame.width}px;height:${frame.height}px;max-width:none;border:0;display:block`\n",
       "                        frame.src = VIEWER_URL + \"?uuid=\" + uuid;\n",
       "\n",
       "                        var postMessageToViewer;\n",
       "                        postMessageToViewer = event => {\n",
       "                            if(event.data.type === 'viewer' && event.data.uuid===uuid){\n",
       "                                frame.contentWindow.postMessage({ type: 'jupyter', uuid, value: node.dataset.simulation, fileType: 'hdf5'}, '*');\n",
       "\n",
       "                                // Run once only\n",
       "                                window.removeEventListener('message', postMessageToViewer);\n",
       "                            }\n",
       "                        };\n",
       "                        window.addEventListener(\n",
       "                            'message',\n",
       "                            postMessageToViewer,\n",
       "                            false\n",
       "                        );\n",
       "\n",
       "                        node.appendChild(frame);\n",
       "                    }\n",
       "                }\n",
       "            }\n",
       "\n",
       "            if (!window.simulationViewerInjector) {\n",
       "                window.simulationViewerInjector = new SimulationViewerInjector();\n",
       "            }\n",
       "        })();\n",
       "    \n",
       "    </script>\n",
       "    "
      ],
      "text/plain": [
       "<IPython.core.display.HTML object>"
      ]
     },
     "metadata": {},
     "output_type": "display_data"
    }
   ],
   "source": [
    "# create source\n",
    "lda0 = 0.75  # wavelength of interest (length scales are micrometers in Tidy3D)\n",
    "freq0 = td.C_0 / lda0  # frequency of interest\n",
    "\n",
    "source = td.PointDipole(\n",
    "    center=(0, 0, 0),  # position of the dipole\n",
    "    source_time=td.GaussianPulse(freq0=freq0, fwidth=freq0 / 10.0),  # time profile of the source\n",
    "    polarization=\"Ey\",  # polarization of the dipole\n",
    ") # type: ignore\n",
    "\n",
    "\n",
    "\n",
    "sim = td.Simulation(\n",
    "    size=(15, 15, 8),  # simulation domain size\n",
    "    grid_spec=td.GridSpec.auto(\n",
    "        min_steps_per_wvl=20\n",
    "    ),  # automatic nonuniform FDTD grid with 25 grids per wavelength in the material\n",
    "    structures=[newgeo],\n",
    "    sources=[source],\n",
    "    run_time=3e-13,  # physical simulation time in second\n",
    ") # type: ignore\n",
    "sim.plot_3d()\n",
    "\n",
    "\n",
    "\n"
   ]
  },
  {
   "cell_type": "code",
   "execution_count": null,
   "id": "7a8d809c",
   "metadata": {},
   "outputs": [],
   "source": [
    "from tidy3d import web\n",
    "\n",
    "task_id = web.upload(sim, task_name=\"8x8x3-DiamondPhC\")\n",
    "# Load the data through task-id\n",
    "sim_data = web.load('fdve-fdebf748-8be8-4117-bc2c-7b11cecdecca')\n",
    "\n",
    "\n"
   ]
  },
  {
   "cell_type": "code",
   "execution_count": 16,
   "id": "38d58ac5",
   "metadata": {},
   "outputs": [
    {
     "name": "stdout",
     "output_type": "stream",
     "text": [
      "<xarray.Dataset> Size: 1kB\n",
      "Dimensions:    (freq: 24)\n",
      "Coordinates:\n",
      "  * freq       (freq) float64 192B -6.289e+14 -3.981e+14 ... 1.044e+15 1.254e+15\n",
      "Data variables:\n",
      "    decay      (freq) float64 192B 3.489e+13 3.495e+13 ... 8.525e+13 -1.956e+15\n",
      "    Q          (freq) float64 192B 56.64 35.78 -2.139 ... 357.8 38.46 -2.014\n",
      "    amplitude  (freq) float64 192B 6.758 6.867 30.53 ... 0.1203 2.438 97.21\n",
      "    phase      (freq) float64 192B -2.857 -2.925 -2.4 ... 1.628 -0.7486 0.06056\n",
      "    error      (freq) float64 192B 0.1849 0.1496 3.696 ... 0.2023 0.2311 8.036\n"
     ]
    },
    {
     "data": {
      "text/plain": [
       "<matplotlib.collections.PathCollection at 0x2587cce0860>"
      ]
     },
     "execution_count": 16,
     "metadata": {},
     "output_type": "execute_result"
    },
    {
     "data": {
      "image/png": "[encoded data removed]",
      "text/plain": [
       "<Figure size 640x480 with 1 Axes>"
      ]
     },
     "metadata": {},
     "output_type": "display_data"
    }
   ],
   "source": [
    "from tidy3d.plugins.resonance import ResonanceFinder\n",
    "\n",
    "field = sim_data.load_field_monitor('fieldtimemonitor_2')\n",
    "\n",
    "resfind = ResonanceFinder(freq_window=[5e13,1e15]).run(field)\n",
    "print(resfind)\n",
    "plt.scatter(td.C_0/resfind.freq, resfind.amplitude)\n",
    "plt.scatter(td.C_0/resfind.freq, resfind.Q)"
   ]
  },
  {
   "cell_type": "code",
   "execution_count": null,
   "id": "9ad632a3",
   "metadata": {},
   "outputs": [],
   "source": []
  }
 ],
 "metadata": {
  "kernelspec": {
   "display_name": "simulation",
   "language": "python",
   "name": "python3"
  },
  "language_info": {
   "codemirror_mode": {
    "name": "ipython",
    "version": 3
   },
   "file_extension": ".py",
   "mimetype": "text/x-python",
   "name": "python",
   "nbconvert_exporter": "python",
   "pygments_lexer": "ipython3",
   "version": "3.12.3"
  }
 },
 "nbformat": 4,
 "nbformat_minor": 5
}
