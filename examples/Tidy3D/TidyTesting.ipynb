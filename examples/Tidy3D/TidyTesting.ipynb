{
 "cells": [
  {
   "cell_type": "code",
   "execution_count": 2,
   "id": "f089e2ae",
   "metadata": {},
   "outputs": [],
   "source": [
    "from crystalbuilder import *\n",
    "import crystalbuilder.geometry as geo\n",
    "import matplotlib.pyplot as plt\n",
    "import tidy3d as td\n",
    "import crystalbuilder.convert as cv\n",
    "import numpy as np\n",
    "import vedo"
   ]
  },
  {
   "cell_type": "code",
   "execution_count": 24,
   "id": "2c1e3a26",
   "metadata": {},
   "outputs": [],
   "source": [
    "a1 = [1, 0, 0]\n",
    "a2 = [0, 1 ,0]\n",
    "a3 = [0, 0, 1]\n",
    "\n",
    "a_mag = .5\n",
    "geo_lattice = lattice.Lattice(a1, a2, a3, magnitude = [a_mag, a_mag, a_mag])"
   ]
  },
  {
   "cell_type": "code",
   "execution_count": 25,
   "id": "433768cb",
   "metadata": {},
   "outputs": [],
   "source": [
    "diamond = bilbao.SpaceGroup(227)\n",
    "pt = 1/8\n",
    "points = diamond.calculate_points(point_list=[(pt, pt, pt)]) #This is the 8a wyckoff position"
   ]
  },
  {
   "cell_type": "code",
   "execution_count": 26,
   "id": "62ac3616",
   "metadata": {},
   "outputs": [],
   "source": [
    "radius = .075\n",
    "connection_sites = geo.NearestNeighbors(points, radius=radius, neighborhood_range=.45, a_mag = a_mag)\n",
    "geometry=connection_sites"
   ]
  },
  {
   "cell_type": "code",
   "execution_count": 29,
   "id": "ccaa1b0a",
   "metadata": {},
   "outputs": [],
   "source": [
    "a1_reps = 6\n",
    "a2_reps = 6\n",
    "a3_reps = 3\n",
    "crystal = geo_lattice.tile_geogeometry(geometry, a1_reps, a2_reps, a3_reps )\n",
    "# crystal = geometry"
   ]
  },
  {
   "cell_type": "code",
   "execution_count": 28,
   "id": "49846f21",
   "metadata": {},
   "outputs": [
    {
     "data": {
      "text/plain": [
       "<vedo.plotter.Plotter at 0x19bcaaf6960>"
      ]
     },
     "execution_count": 28,
     "metadata": {},
     "output_type": "execute_result"
    }
   ],
   "source": [
    "scene = viewer.visualize(crystal)\n",
    "scene.show().close()\n",
    "\n"
   ]
  },
  {
   "cell_type": "code",
   "execution_count": 30,
   "id": "66ab15f7",
   "metadata": {},
   "outputs": [],
   "source": [
    "newgeo = cv.geo_to_tidy3d(crystal, 2.25)"
   ]
  },
  {
   "cell_type": "code",
   "execution_count": null,
   "id": "3c214a5c",
   "metadata": {},
   "outputs": [
    {
     "data": {
      "text/html": [
       "\n",
       "    <div class=\"simulation-viewer\" data-width=\"800\" data-height=\"800\" data-simulation=\"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\" ></div>\n",
       "    <script>\n",
       "        \n",
       "        /**\n",
       "        * Simulation Viewer Injector\n",
       "        *\n",
       "        * Monitors the document for elements being added in the form:\n",
       "        *\n",
       "        *    <div class=\"simulation-viewer\" data-width=\"800\" data-height=\"800\" data-simulation=\"{...}\" />\n",
       "        *\n",
       "        * This script will then inject an iframe to the viewer application, and pass it the simulation data\n",
       "        * via the postMessage API on request. The script may be safely included multiple times, with only the\n",
       "        * configuration of the first started script (e.g. viewer URL) applying.\n",
       "        *\n",
       "        */\n",
       "        (function() {\n",
       "            const TARGET_CLASS = \"simulation-viewer\";\n",
       "            const ACTIVE_CLASS = \"simulation-viewer-active\";\n",
       "            const VIEWER_URL = \"https://tidy3d.simulation.cloud/simulation-viewer\";\n",
       "\n",
       "            class SimulationViewerInjector {\n",
       "                constructor() {\n",
       "                    for (var node of document.getElementsByClassName(TARGET_CLASS)) {\n",
       "                        this.injectViewer(node);\n",
       "                    }\n",
       "\n",
       "                    // Monitor for newly added nodes to the DOM\n",
       "                    this.observer = new MutationObserver(this.onMutations.bind(this));\n",
       "                    this.observer.observe(document.body, {childList: true, subtree: true});\n",
       "                }\n",
       "\n",
       "                onMutations(mutations) {\n",
       "                    for (var mutation of mutations) {\n",
       "                        if (mutation.type === 'childList') {\n",
       "                            /**\n",
       "                            * Have found that adding the element does not reliably trigger the mutation observer.\n",
       "                            * It may be the case that setting content with innerHTML does not trigger.\n",
       "                            *\n",
       "                            * It seems to be sufficient to re-scan the document for un-activated viewers\n",
       "                            * whenever an event occurs, as Jupyter triggers multiple events on cell evaluation.\n",
       "                            */\n",
       "                            var viewers = document.getElementsByClassName(TARGET_CLASS);\n",
       "                            for (var node of viewers) {\n",
       "                                this.injectViewer(node);\n",
       "                            }\n",
       "                        }\n",
       "                    }\n",
       "                }\n",
       "\n",
       "                injectViewer(node) {\n",
       "                    // (re-)check that this is a valid simulation container and has not already been injected\n",
       "                    if (node.classList.contains(TARGET_CLASS) && !node.classList.contains(ACTIVE_CLASS)) {\n",
       "                        // Mark node as injected, to prevent re-runs\n",
       "                        node.classList.add(ACTIVE_CLASS);\n",
       "\n",
       "                        var uuid;\n",
       "                        if (window.crypto && window.crypto.randomUUID) {\n",
       "                            uuid = window.crypto.randomUUID();\n",
       "                        } else {\n",
       "                            uuid = \"\" + Math.random();\n",
       "                        }\n",
       "\n",
       "                        var frame = document.createElement(\"iframe\");\n",
       "                        frame.width = node.dataset.width || 800;\n",
       "                        frame.height = node.dataset.height || 800;\n",
       "                        frame.style.cssText = `width:${frame.width}px;height:${frame.height}px;max-width:none;border:0;display:block`\n",
       "                        frame.src = VIEWER_URL + \"?uuid=\" + uuid;\n",
       "\n",
       "                        var postMessageToViewer;\n",
       "                        postMessageToViewer = event => {\n",
       "                            if(event.data.type === 'viewer' && event.data.uuid===uuid){\n",
       "                                frame.contentWindow.postMessage({ type: 'jupyter', uuid, value: node.dataset.simulation, fileType: 'hdf5'}, '*');\n",
       "\n",
       "                                // Run once only\n",
       "                                window.removeEventListener('message', postMessageToViewer);\n",
       "                            }\n",
       "                        };\n",
       "                        window.addEventListener(\n",
       "                            'message',\n",
       "                            postMessageToViewer,\n",
       "                            false\n",
       "                        );\n",
       "\n",
       "                        node.appendChild(frame);\n",
       "                    }\n",
       "                }\n",
       "            }\n",
       "\n",
       "            if (!window.simulationViewerInjector) {\n",
       "                window.simulationViewerInjector = new SimulationViewerInjector();\n",
       "            }\n",
       "        })();\n",
       "    \n",
       "    </script>\n",
       "    "
      ],
      "text/plain": [
       "<IPython.core.display.HTML object>"
      ]
     },
     "metadata": {},
     "output_type": "display_data"
    }
   ],
   "source": [
    "# create source\n",
    "lda0 = 0.75  # wavelength of interest (length scales are micrometers in Tidy3D)\n",
    "freq0 = td.C_0 / lda0  # frequency of interest\n",
    "\n",
    "source = td.PointDipole(\n",
    "    center=(0, 0, 0),  # position of the dipole\n",
    "    source_time=td.GaussianPulse(freq0=freq0, fwidth=freq0 / 10.0),  # time profile of the source\n",
    "    polarization=\"Ey\",  # polarization of the dipole\n",
    ") # type: ignore\n",
    "\n",
    "\n",
    "\n",
    "sim = td.Simulation(\n",
    "    size=(10, 10, 10),  # simulation domain size\n",
    "    grid_spec=td.GridSpec.auto(\n",
    "        min_steps_per_wvl=10\n",
    "    ),  # automatic nonuniform FDTD grid with 25 grids per wavelength in the material\n",
    "    structures=[newgeo],\n",
    "    sources=[source],\n",
    "    run_time=3e-13,  # physical simulation time in second\n",
    ") # type: ignore\n",
    "sim.plot_3d()\n",
    "\n",
    "\n",
    "\n"
   ]
  },
  {
   "cell_type": "code",
   "execution_count": 3,
   "id": "7a8d809c",
   "metadata": {},
   "outputs": [
    {
     "data": {
      "text/html": [
       "<pre style=\"white-space:pre;overflow-x:auto;line-height:normal;font-family:Menlo,'DejaVu Sans Mono',consolas,'Courier New',monospace\">c:\\Users\\Brandon\\miniconda3\\envs\\simulation\\Lib\\site-packages\\rich\\live.py:231: \n",
       "UserWarning: install \"ipywidgets\" for Jupyter support\n",
       "  warnings.warn('install \"ipywidgets\" for Jupyter support')\n",
       "</pre>\n"
      ],
      "text/plain": [
       "c:\\Users\\Brandon\\miniconda3\\envs\\simulation\\Lib\\site-packages\\rich\\live.py:231: \n",
       "UserWarning: install \"ipywidgets\" for Jupyter support\n",
       "  warnings.warn('install \"ipywidgets\" for Jupyter support')\n"
      ]
     },
     "metadata": {},
     "output_type": "display_data"
    },
    {
     "data": {
      "text/html": [
       "<pre style=\"white-space:pre;overflow-x:auto;line-height:normal;font-family:Menlo,'DejaVu Sans Mono',consolas,'Courier New',monospace\"></pre>\n"
      ],
      "text/plain": []
     },
     "metadata": {},
     "output_type": "display_data"
    },
    {
     "data": {
      "text/html": [
       "<pre style=\"white-space:pre;overflow-x:auto;line-height:normal;font-family:Menlo,'DejaVu Sans Mono',consolas,'Courier New',monospace\"><span style=\"color: #7fbfbf; text-decoration-color: #7fbfbf\">18:58:55 Central Daylight Time </span>loading simulation from simulation_data.hdf5     \n",
       "</pre>\n"
      ],
      "text/plain": [
       "\u001b[2;36m18:58:55 Central Daylight Time\u001b[0m\u001b[2;36m \u001b[0mloading simulation from simulation_data.hdf5     \n"
      ]
     },
     "metadata": {},
     "output_type": "display_data"
    },
    {
     "data": {
      "text/html": [
       "<pre style=\"white-space:pre;overflow-x:auto;line-height:normal;font-family:Menlo,'DejaVu Sans Mono',consolas,'Courier New',monospace\"><span style=\"color: #7fbfbf; text-decoration-color: #7fbfbf\">18:59:01 Central Daylight Time </span><span style=\"color: #800000; text-decoration-color: #800000\">WARNING: Field projection monitor                </span>\n",
       "<span style=\"color: #7fbfbf; text-decoration-color: #7fbfbf\">                               </span><span style=\"color: #008000; text-decoration-color: #008000\">'fieldprojectionanglemonitor_1'</span><span style=\"color: #800000; text-decoration-color: #800000\"> has observation  </span>\n",
       "<span style=\"color: #7fbfbf; text-decoration-color: #7fbfbf\">                               </span><span style=\"color: #800000; text-decoration-color: #800000\">points set up such that the monitor is projecting</span>\n",
       "<span style=\"color: #7fbfbf; text-decoration-color: #7fbfbf\">                               </span><span style=\"color: #800000; text-decoration-color: #800000\">backwards with respect to its </span><span style=\"color: #008000; text-decoration-color: #008000\">'normal_dir'</span><span style=\"color: #800000; text-decoration-color: #800000\">. If   </span>\n",
       "<span style=\"color: #7fbfbf; text-decoration-color: #7fbfbf\">                               </span><span style=\"color: #800000; text-decoration-color: #800000\">this was not intentional, please take a look at  </span>\n",
       "<span style=\"color: #7fbfbf; text-decoration-color: #7fbfbf\">                               </span><span style=\"color: #800000; text-decoration-color: #800000\">the documentation associated with this type of   </span>\n",
       "<span style=\"color: #7fbfbf; text-decoration-color: #7fbfbf\">                               </span><span style=\"color: #800000; text-decoration-color: #800000\">projection monitor to check how the observation  </span>\n",
       "<span style=\"color: #7fbfbf; text-decoration-color: #7fbfbf\">                               </span><span style=\"color: #800000; text-decoration-color: #800000\">point coordinate system is defined.              </span>\n",
       "</pre>\n"
      ],
      "text/plain": [
       "\u001b[2;36m18:59:01 Central Daylight Time\u001b[0m\u001b[2;36m \u001b[0m\u001b[31mWARNING: Field projection monitor                \u001b[0m\n",
       "\u001b[2;36m                               \u001b[0m\u001b[32m'fieldprojectionanglemonitor_1'\u001b[0m\u001b[31m has observation  \u001b[0m\n",
       "\u001b[2;36m                               \u001b[0m\u001b[31mpoints set up such that the monitor is projecting\u001b[0m\n",
       "\u001b[2;36m                               \u001b[0m\u001b[31mbackwards with respect to its \u001b[0m\u001b[32m'normal_dir'\u001b[0m\u001b[31m. If   \u001b[0m\n",
       "\u001b[2;36m                               \u001b[0m\u001b[31mthis was not intentional, please take a look at  \u001b[0m\n",
       "\u001b[2;36m                               \u001b[0m\u001b[31mthe documentation associated with this type of   \u001b[0m\n",
       "\u001b[2;36m                               \u001b[0m\u001b[31mprojection monitor to check how the observation  \u001b[0m\n",
       "\u001b[2;36m                               \u001b[0m\u001b[31mpoint coordinate system is defined.              \u001b[0m\n"
      ]
     },
     "metadata": {},
     "output_type": "display_data"
    },
    {
     "data": {
      "text/html": [
       "<pre style=\"white-space:pre;overflow-x:auto;line-height:normal;font-family:Menlo,'DejaVu Sans Mono',consolas,'Courier New',monospace\"><span style=\"color: #7fbfbf; text-decoration-color: #7fbfbf\">18:59:04 Central Daylight Time </span><span style=\"color: #800000; text-decoration-color: #800000\">WARNING: Warning messages were found in the      </span>\n",
       "<span style=\"color: #7fbfbf; text-decoration-color: #7fbfbf\">                               </span><span style=\"color: #800000; text-decoration-color: #800000\">solver log. For more information, check          </span>\n",
       "<span style=\"color: #7fbfbf; text-decoration-color: #7fbfbf\">                               </span><span style=\"color: #008000; text-decoration-color: #008000\">'SimulationData.log'</span><span style=\"color: #800000; text-decoration-color: #800000\"> or use                      </span>\n",
       "<span style=\"color: #7fbfbf; text-decoration-color: #7fbfbf\">                               </span><span style=\"color: #008000; text-decoration-color: #008000\">'web.download_log(task_id)'</span><span style=\"color: #800000; text-decoration-color: #800000\">.                     </span>\n",
       "</pre>\n"
      ],
      "text/plain": [
       "\u001b[2;36m18:59:04 Central Daylight Time\u001b[0m\u001b[2;36m \u001b[0m\u001b[31mWARNING: Warning messages were found in the      \u001b[0m\n",
       "\u001b[2;36m                               \u001b[0m\u001b[31msolver log. For more information, check          \u001b[0m\n",
       "\u001b[2;36m                               \u001b[0m\u001b[32m'SimulationData.log'\u001b[0m\u001b[31m or use                      \u001b[0m\n",
       "\u001b[2;36m                               \u001b[0m\u001b[32m'web.download_log\u001b[0m\u001b[32m(\u001b[0m\u001b[32mtask_id\u001b[0m\u001b[32m)\u001b[0m\u001b[32m'\u001b[0m\u001b[31m.                     \u001b[0m\n"
      ]
     },
     "metadata": {},
     "output_type": "display_data"
    }
   ],
   "source": [
    "from tidy3d import web\n",
    "\n",
    "# Load the data through task-id\n",
    "sim_data = web.load('fdve-565f6de9-bbac-454f-beef-1aaf58571b66')\n",
    "\n",
    "\n"
   ]
  },
  {
   "cell_type": "code",
   "execution_count": 16,
   "id": "38d58ac5",
   "metadata": {},
   "outputs": [
    {
     "name": "stdout",
     "output_type": "stream",
     "text": [
      "<xarray.Dataset> Size: 1kB\n",
      "Dimensions:    (freq: 24)\n",
      "Coordinates:\n",
      "  * freq       (freq) float64 192B -6.289e+14 -3.981e+14 ... 1.044e+15 1.254e+15\n",
      "Data variables:\n",
      "    decay      (freq) float64 192B 3.489e+13 3.495e+13 ... 8.525e+13 -1.956e+15\n",
      "    Q          (freq) float64 192B 56.64 35.78 -2.139 ... 357.8 38.46 -2.014\n",
      "    amplitude  (freq) float64 192B 6.758 6.867 30.53 ... 0.1203 2.438 97.21\n",
      "    phase      (freq) float64 192B -2.857 -2.925 -2.4 ... 1.628 -0.7486 0.06056\n",
      "    error      (freq) float64 192B 0.1849 0.1496 3.696 ... 0.2023 0.2311 8.036\n"
     ]
    },
    {
     "data": {
      "text/plain": [
       "<matplotlib.collections.PathCollection at 0x2587cce0860>"
      ]
     },
     "execution_count": 16,
     "metadata": {},
     "output_type": "execute_result"
    },
    {
     "data": {
      "image/png": "[encoded data removed]",
      "text/plain": [
       "<Figure size 640x480 with 1 Axes>"
      ]
     },
     "metadata": {},
     "output_type": "display_data"
    }
   ],
   "source": [
    "from tidy3d.plugins.resonance import ResonanceFinder\n",
    "\n",
    "field = sim_data.load_field_monitor('fieldtimemonitor_2')\n",
    "\n",
    "resfind = ResonanceFinder(freq_window=[5e13,1e15]).run(field)\n",
    "print(resfind)\n",
    "plt.scatter(td.C_0/resfind.freq, resfind.amplitude)\n",
    "plt.scatter(td.C_0/resfind.freq, resfind.Q)"
   ]
  },
  {
   "cell_type": "code",
   "execution_count": null,
   "id": "9ad632a3",
   "metadata": {},
   "outputs": [],
   "source": []
  }
 ],
 "metadata": {
  "kernelspec": {
   "display_name": "simulation",
   "language": "python",
   "name": "python3"
  },
  "language_info": {
   "codemirror_mode": {
    "name": "ipython",
    "version": 3
   },
   "file_extension": ".py",
   "mimetype": "text/x-python",
   "name": "python",
   "nbconvert_exporter": "python",
   "pygments_lexer": "ipython3",
   "version": "3.12.3"
  }
 },
 "nbformat": 4,
 "nbformat_minor": 5
}
